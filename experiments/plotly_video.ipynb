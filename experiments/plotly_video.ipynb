{
 "cells": [
  {
   "cell_type": "code",
   "execution_count": 23,
   "metadata": {},
   "outputs": [],
   "source": [
    "import pandas as pd\n",
    "import imageio\n",
    "import json\n",
    "from datetime import datetime\n",
    "import pytz\n",
    "\n",
    "\n",
    "from render_video import plot_figures, figs_to_frames"
   ]
  },
  {
   "cell_type": "markdown",
   "metadata": {},
   "source": [
    "## Testlauf Neupfarrplatz"
   ]
  },
  {
   "cell_type": "code",
   "execution_count": 24,
   "metadata": {},
   "outputs": [],
   "source": [
    "# load parquet file to dataframe\n",
    "df = pd.read_parquet('../data/testlauf-neupfarrplatz/log-interpol/interpol.parquet')"
   ]
  },
  {
   "cell_type": "code",
   "execution_count": 25,
   "metadata": {},
   "outputs": [
    {
     "data": {
      "text/html": [
       "<div>\n",
       "<style scoped>\n",
       "    .dataframe tbody tr th:only-of-type {\n",
       "        vertical-align: middle;\n",
       "    }\n",
       "\n",
       "    .dataframe tbody tr th {\n",
       "        vertical-align: top;\n",
       "    }\n",
       "\n",
       "    .dataframe thead tr th {\n",
       "        text-align: left;\n",
       "    }\n",
       "</style>\n",
       "<table border=\"1\" class=\"dataframe\">\n",
       "  <thead>\n",
       "    <tr>\n",
       "      <th>team</th>\n",
       "      <th colspan=\"2\" halign=\"left\">50b848eb-150d-11ef-a477-15bc960d382e</th>\n",
       "      <th colspan=\"2\" halign=\"left\">a4eebb09-1514-11ef-b019-73f1875d90c5</th>\n",
       "      <th colspan=\"2\" halign=\"left\">b1d91f00-1514-11ef-90d9-870e7bed4f26</th>\n",
       "      <th colspan=\"2\" halign=\"left\">56971933-150d-11ef-9427-2bf640545472</th>\n",
       "      <th colspan=\"2\" halign=\"left\">284f0e6b-1514-11ef-a3d1-710a0d2c97dd</th>\n",
       "    </tr>\n",
       "    <tr>\n",
       "      <th>dim</th>\n",
       "      <th>lat</th>\n",
       "      <th>lon</th>\n",
       "      <th>lat</th>\n",
       "      <th>lon</th>\n",
       "      <th>lat</th>\n",
       "      <th>lon</th>\n",
       "      <th>lat</th>\n",
       "      <th>lon</th>\n",
       "      <th>lat</th>\n",
       "      <th>lon</th>\n",
       "    </tr>\n",
       "  </thead>\n",
       "  <tbody>\n",
       "    <tr>\n",
       "      <th>0</th>\n",
       "      <td>49.018418</td>\n",
       "      <td>12.096596</td>\n",
       "      <td>49.018377</td>\n",
       "      <td>12.096603</td>\n",
       "      <td>49.018386</td>\n",
       "      <td>12.096590</td>\n",
       "      <td>49.018445</td>\n",
       "      <td>12.096630</td>\n",
       "      <td>49.018446</td>\n",
       "      <td>12.096713</td>\n",
       "    </tr>\n",
       "    <tr>\n",
       "      <th>1000</th>\n",
       "      <td>49.018418</td>\n",
       "      <td>12.096595</td>\n",
       "      <td>49.018377</td>\n",
       "      <td>12.096603</td>\n",
       "      <td>49.018388</td>\n",
       "      <td>12.096587</td>\n",
       "      <td>49.018444</td>\n",
       "      <td>12.096632</td>\n",
       "      <td>49.018445</td>\n",
       "      <td>12.096713</td>\n",
       "    </tr>\n",
       "    <tr>\n",
       "      <th>2000</th>\n",
       "      <td>49.018418</td>\n",
       "      <td>12.096595</td>\n",
       "      <td>49.018377</td>\n",
       "      <td>12.096603</td>\n",
       "      <td>49.018388</td>\n",
       "      <td>12.096585</td>\n",
       "      <td>49.018442</td>\n",
       "      <td>12.096636</td>\n",
       "      <td>49.018445</td>\n",
       "      <td>12.096713</td>\n",
       "    </tr>\n",
       "    <tr>\n",
       "      <th>3000</th>\n",
       "      <td>49.018418</td>\n",
       "      <td>12.096595</td>\n",
       "      <td>49.018377</td>\n",
       "      <td>12.096603</td>\n",
       "      <td>49.018388</td>\n",
       "      <td>12.096585</td>\n",
       "      <td>49.018440</td>\n",
       "      <td>12.096640</td>\n",
       "      <td>49.018445</td>\n",
       "      <td>12.096713</td>\n",
       "    </tr>\n",
       "    <tr>\n",
       "      <th>4000</th>\n",
       "      <td>49.018418</td>\n",
       "      <td>12.096595</td>\n",
       "      <td>49.018377</td>\n",
       "      <td>12.096603</td>\n",
       "      <td>49.018388</td>\n",
       "      <td>12.096584</td>\n",
       "      <td>49.018438</td>\n",
       "      <td>12.096644</td>\n",
       "      <td>49.018445</td>\n",
       "      <td>12.096714</td>\n",
       "    </tr>\n",
       "  </tbody>\n",
       "</table>\n",
       "</div>"
      ],
      "text/plain": [
       "team 50b848eb-150d-11ef-a477-15bc960d382e             \\\n",
       "dim                                   lat        lon   \n",
       "0                               49.018418  12.096596   \n",
       "1000                            49.018418  12.096595   \n",
       "2000                            49.018418  12.096595   \n",
       "3000                            49.018418  12.096595   \n",
       "4000                            49.018418  12.096595   \n",
       "\n",
       "team a4eebb09-1514-11ef-b019-73f1875d90c5             \\\n",
       "dim                                   lat        lon   \n",
       "0                               49.018377  12.096603   \n",
       "1000                            49.018377  12.096603   \n",
       "2000                            49.018377  12.096603   \n",
       "3000                            49.018377  12.096603   \n",
       "4000                            49.018377  12.096603   \n",
       "\n",
       "team b1d91f00-1514-11ef-90d9-870e7bed4f26             \\\n",
       "dim                                   lat        lon   \n",
       "0                               49.018386  12.096590   \n",
       "1000                            49.018388  12.096587   \n",
       "2000                            49.018388  12.096585   \n",
       "3000                            49.018388  12.096585   \n",
       "4000                            49.018388  12.096584   \n",
       "\n",
       "team 56971933-150d-11ef-9427-2bf640545472             \\\n",
       "dim                                   lat        lon   \n",
       "0                               49.018445  12.096630   \n",
       "1000                            49.018444  12.096632   \n",
       "2000                            49.018442  12.096636   \n",
       "3000                            49.018440  12.096640   \n",
       "4000                            49.018438  12.096644   \n",
       "\n",
       "team 284f0e6b-1514-11ef-a3d1-710a0d2c97dd             \n",
       "dim                                   lat        lon  \n",
       "0                               49.018446  12.096713  \n",
       "1000                            49.018445  12.096713  \n",
       "2000                            49.018445  12.096713  \n",
       "3000                            49.018445  12.096713  \n",
       "4000                            49.018445  12.096714  "
      ]
     },
     "execution_count": 25,
     "metadata": {},
     "output_type": "execute_result"
    }
   ],
   "source": [
    "df.head()"
   ]
  },
  {
   "cell_type": "code",
   "execution_count": 26,
   "metadata": {},
   "outputs": [
    {
     "data": {
      "text/plain": [
       "['a4eebb09-1514-11ef-b019-73f1875d90c5',\n",
       " '50b848eb-150d-11ef-a477-15bc960d382e',\n",
       " '56971933-150d-11ef-9427-2bf640545472',\n",
       " '284f0e6b-1514-11ef-a3d1-710a0d2c97dd',\n",
       " 'b1d91f00-1514-11ef-90d9-870e7bed4f26']"
      ]
     },
     "execution_count": 26,
     "metadata": {},
     "output_type": "execute_result"
    }
   ],
   "source": [
    "# get list of teams\n",
    "teams = list(set(c[0] for c in df.columns))\n",
    "teams"
   ]
  },
  {
   "cell_type": "code",
   "execution_count": 27,
   "metadata": {},
   "outputs": [],
   "source": [
    "# get catch data\n",
    "data_caught = json.load(open('../data/testlauf-neupfarrplatz/log-export/team_caught.json'))"
   ]
  },
  {
   "cell_type": "code",
   "execution_count": 28,
   "metadata": {},
   "outputs": [
    {
     "data": {
      "text/plain": [
       "{'56971933-150d-11ef-9427-2bf640545472': 1716041758000,\n",
       " 'b1d91f00-1514-11ef-90d9-870e7bed4f26': 1716041166000,\n",
       " 'a4eebb09-1514-11ef-b019-73f1875d90c5': 1716039541000}"
      ]
     },
     "execution_count": 28,
     "metadata": {},
     "output_type": "execute_result"
    }
   ],
   "source": [
    "# dictionary of caught timestamps\n",
    "caught_timestamps = {}\n",
    "for entry in data_caught:\n",
    "    entry['timestamp'] = entry['timestamp'][:-4]\n",
    "    entry['timestamp'] = entry['timestamp']\n",
    "    dt = datetime.strptime(entry['timestamp'], \"%Y-%m-%d %H:%M:%S\").replace(tzinfo=pytz.UTC)\n",
    "    caught_timestamps[entry['runaway_active_user']] = int(dt.timestamp() * 1000)\n",
    "# initial hunting team\n",
    "entry = data_caught[-1]\n",
    "caught_timestamps"
   ]
  },
  {
   "cell_type": "code",
   "execution_count": 29,
   "metadata": {},
   "outputs": [],
   "source": [
    "# get initial hunter\n",
    "initial_hunter = entry['hunter_active_user']\n",
    "caught_timestamps[initial_hunter] = 0"
   ]
  },
  {
   "cell_type": "code",
   "execution_count": 30,
   "metadata": {},
   "outputs": [
    {
     "name": "stderr",
     "output_type": "stream",
     "text": [
      "100%|██████████| 893/893 [00:45<00:00, 19.43it/s]\n"
     ]
    }
   ],
   "source": [
    "# Render the frames figures\n",
    "figs = plot_figures(df, teams, initial_hunter, caught_timestamps)"
   ]
  },
  {
   "cell_type": "code",
   "execution_count": 31,
   "metadata": {},
   "outputs": [
    {
     "name": "stderr",
     "output_type": "stream",
     "text": [
      "100%|██████████| 893/893 [17:54<00:00,  1.20s/it]\n"
     ]
    }
   ],
   "source": [
    "# Convert figures to images\n",
    "frames = figs_to_frames(figs)"
   ]
  },
  {
   "cell_type": "code",
   "execution_count": 32,
   "metadata": {},
   "outputs": [],
   "source": [
    "# repeat last frame for 2 seconds\n",
    "for i in range(60):\n",
    "    frames.append(frames[-1])"
   ]
  },
  {
   "cell_type": "code",
   "execution_count": 33,
   "metadata": {},
   "outputs": [],
   "source": [
    "# Save frames as a video\n",
    "imageio.mimsave(\"video_neupfarrplatz.mp4\", frames, fps=30)"
   ]
  }
 ],
 "metadata": {
  "kernelspec": {
   "display_name": ".venv",
   "language": "python",
   "name": "python3"
  },
  "language_info": {
   "codemirror_mode": {
    "name": "ipython",
    "version": 3
   },
   "file_extension": ".py",
   "mimetype": "text/x-python",
   "name": "python",
   "nbconvert_exporter": "python",
   "pygments_lexer": "ipython3",
   "version": "3.10.12"
  }
 },
 "nbformat": 4,
 "nbformat_minor": 2
}
