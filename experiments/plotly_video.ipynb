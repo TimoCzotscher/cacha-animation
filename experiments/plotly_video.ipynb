{
 "cells": [
  {
   "cell_type": "code",
   "execution_count": 8,
   "metadata": {},
   "outputs": [],
   "source": [
    "import plotly.express as px\n",
    "import pandas as pd\n",
    "import plotly.io as pio\n",
    "import imageio\n",
    "from tqdm import tqdm"
   ]
  },
  {
   "cell_type": "code",
   "execution_count": 9,
   "metadata": {},
   "outputs": [],
   "source": [
    "# load parquet file to dataframe\n",
    "df = pd.read_parquet('../data/log-interpol/interpol.parquet')"
   ]
  },
  {
   "cell_type": "code",
   "execution_count": 10,
   "metadata": {},
   "outputs": [
    {
     "data": {
      "text/html": [
       "<div>\n",
       "<style scoped>\n",
       "    .dataframe tbody tr th:only-of-type {\n",
       "        vertical-align: middle;\n",
       "    }\n",
       "\n",
       "    .dataframe tbody tr th {\n",
       "        vertical-align: top;\n",
       "    }\n",
       "\n",
       "    .dataframe thead tr th {\n",
       "        text-align: left;\n",
       "    }\n",
       "</style>\n",
       "<table border=\"1\" class=\"dataframe\">\n",
       "  <thead>\n",
       "    <tr>\n",
       "      <th>team</th>\n",
       "      <th colspan=\"2\" halign=\"left\">50b848eb-150d-11ef-a477-15bc960d382e</th>\n",
       "      <th colspan=\"2\" halign=\"left\">a4eebb09-1514-11ef-b019-73f1875d90c5</th>\n",
       "      <th colspan=\"2\" halign=\"left\">b1d91f00-1514-11ef-90d9-870e7bed4f26</th>\n",
       "      <th colspan=\"2\" halign=\"left\">56971933-150d-11ef-9427-2bf640545472</th>\n",
       "      <th colspan=\"2\" halign=\"left\">284f0e6b-1514-11ef-a3d1-710a0d2c97dd</th>\n",
       "    </tr>\n",
       "    <tr>\n",
       "      <th>dim</th>\n",
       "      <th>lat</th>\n",
       "      <th>lon</th>\n",
       "      <th>lat</th>\n",
       "      <th>lon</th>\n",
       "      <th>lat</th>\n",
       "      <th>lon</th>\n",
       "      <th>lat</th>\n",
       "      <th>lon</th>\n",
       "      <th>lat</th>\n",
       "      <th>lon</th>\n",
       "    </tr>\n",
       "  </thead>\n",
       "  <tbody>\n",
       "    <tr>\n",
       "      <th>0</th>\n",
       "      <td>49.018418</td>\n",
       "      <td>12.096596</td>\n",
       "      <td>49.018377</td>\n",
       "      <td>12.096603</td>\n",
       "      <td>49.018386</td>\n",
       "      <td>12.096590</td>\n",
       "      <td>49.018445</td>\n",
       "      <td>12.096630</td>\n",
       "      <td>49.018446</td>\n",
       "      <td>12.096713</td>\n",
       "    </tr>\n",
       "    <tr>\n",
       "      <th>1000</th>\n",
       "      <td>49.018418</td>\n",
       "      <td>12.096595</td>\n",
       "      <td>49.018377</td>\n",
       "      <td>12.096603</td>\n",
       "      <td>49.018388</td>\n",
       "      <td>12.096587</td>\n",
       "      <td>49.018444</td>\n",
       "      <td>12.096632</td>\n",
       "      <td>49.018445</td>\n",
       "      <td>12.096713</td>\n",
       "    </tr>\n",
       "    <tr>\n",
       "      <th>2000</th>\n",
       "      <td>49.018418</td>\n",
       "      <td>12.096595</td>\n",
       "      <td>49.018377</td>\n",
       "      <td>12.096603</td>\n",
       "      <td>49.018388</td>\n",
       "      <td>12.096585</td>\n",
       "      <td>49.018442</td>\n",
       "      <td>12.096636</td>\n",
       "      <td>49.018445</td>\n",
       "      <td>12.096713</td>\n",
       "    </tr>\n",
       "    <tr>\n",
       "      <th>3000</th>\n",
       "      <td>49.018418</td>\n",
       "      <td>12.096595</td>\n",
       "      <td>49.018377</td>\n",
       "      <td>12.096603</td>\n",
       "      <td>49.018388</td>\n",
       "      <td>12.096585</td>\n",
       "      <td>49.018440</td>\n",
       "      <td>12.096640</td>\n",
       "      <td>49.018445</td>\n",
       "      <td>12.096713</td>\n",
       "    </tr>\n",
       "    <tr>\n",
       "      <th>4000</th>\n",
       "      <td>49.018418</td>\n",
       "      <td>12.096595</td>\n",
       "      <td>49.018377</td>\n",
       "      <td>12.096603</td>\n",
       "      <td>49.018388</td>\n",
       "      <td>12.096584</td>\n",
       "      <td>49.018438</td>\n",
       "      <td>12.096644</td>\n",
       "      <td>49.018445</td>\n",
       "      <td>12.096714</td>\n",
       "    </tr>\n",
       "  </tbody>\n",
       "</table>\n",
       "</div>"
      ],
      "text/plain": [
       "team 50b848eb-150d-11ef-a477-15bc960d382e             \\\n",
       "dim                                   lat        lon   \n",
       "0                               49.018418  12.096596   \n",
       "1000                            49.018418  12.096595   \n",
       "2000                            49.018418  12.096595   \n",
       "3000                            49.018418  12.096595   \n",
       "4000                            49.018418  12.096595   \n",
       "\n",
       "team a4eebb09-1514-11ef-b019-73f1875d90c5             \\\n",
       "dim                                   lat        lon   \n",
       "0                               49.018377  12.096603   \n",
       "1000                            49.018377  12.096603   \n",
       "2000                            49.018377  12.096603   \n",
       "3000                            49.018377  12.096603   \n",
       "4000                            49.018377  12.096603   \n",
       "\n",
       "team b1d91f00-1514-11ef-90d9-870e7bed4f26             \\\n",
       "dim                                   lat        lon   \n",
       "0                               49.018386  12.096590   \n",
       "1000                            49.018388  12.096587   \n",
       "2000                            49.018388  12.096585   \n",
       "3000                            49.018388  12.096585   \n",
       "4000                            49.018388  12.096584   \n",
       "\n",
       "team 56971933-150d-11ef-9427-2bf640545472             \\\n",
       "dim                                   lat        lon   \n",
       "0                               49.018445  12.096630   \n",
       "1000                            49.018444  12.096632   \n",
       "2000                            49.018442  12.096636   \n",
       "3000                            49.018440  12.096640   \n",
       "4000                            49.018438  12.096644   \n",
       "\n",
       "team 284f0e6b-1514-11ef-a3d1-710a0d2c97dd             \n",
       "dim                                   lat        lon  \n",
       "0                               49.018446  12.096713  \n",
       "1000                            49.018445  12.096713  \n",
       "2000                            49.018445  12.096713  \n",
       "3000                            49.018445  12.096713  \n",
       "4000                            49.018445  12.096714  "
      ]
     },
     "execution_count": 10,
     "metadata": {},
     "output_type": "execute_result"
    }
   ],
   "source": [
    "df.head()"
   ]
  },
  {
   "cell_type": "code",
   "execution_count": 11,
   "metadata": {},
   "outputs": [
    {
     "data": {
      "text/plain": [
       "['50b848eb-150d-11ef-a477-15bc960d382e',\n",
       " 'b1d91f00-1514-11ef-90d9-870e7bed4f26',\n",
       " 'a4eebb09-1514-11ef-b019-73f1875d90c5',\n",
       " '56971933-150d-11ef-9427-2bf640545472',\n",
       " '284f0e6b-1514-11ef-a3d1-710a0d2c97dd']"
      ]
     },
     "execution_count": 11,
     "metadata": {},
     "output_type": "execute_result"
    }
   ],
   "source": [
    "# get list of teams\n",
    "teams = list(set(c[0] for c in df.columns))\n",
    "teams"
   ]
  },
  {
   "cell_type": "code",
   "execution_count": 12,
   "metadata": {},
   "outputs": [
    {
     "name": "stderr",
     "output_type": "stream",
     "text": [
      "100%|██████████| 120/120 [00:06<00:00, 17.50it/s]\n"
     ]
    }
   ],
   "source": [
    "# Render the frames figures\n",
    "figs = []\n",
    "n_frames = 8\n",
    "for t in tqdm(df.index[1800:1920:]):\n",
    "    # Example data\n",
    "    data = {'team': teams,\n",
    "            'lat': [df[team, 'lat'][t] for team in teams],\n",
    "            'lon': [df[team, 'lon'][t] for team in teams]}\n",
    "    df_plot = pd.DataFrame(data)\n",
    "\n",
    "    # Create plot\n",
    "    fig = px.scatter_mapbox(df_plot, lat=\"lat\", lon=\"lon\", color=\"team\", zoom=15)\n",
    "    fig.update_layout(mapbox_style=\"open-street-map\", mapbox_center_lat=df[teams[0], 'lat'][0], mapbox_center_lon=df[teams[0], 'lon'][0])\n",
    "    figs.append(fig)"
   ]
  },
  {
   "cell_type": "code",
   "execution_count": 13,
   "metadata": {},
   "outputs": [
    {
     "name": "stderr",
     "output_type": "stream",
     "text": [
      "100%|██████████| 120/120 [02:07<00:00,  1.06s/it]\n"
     ]
    }
   ],
   "source": [
    "# Convert figures to images\n",
    "frames = []\n",
    "for fig in tqdm(figs):\n",
    "    img_bytes = pio.to_image(fig, format=\"png\")\n",
    "    img = imageio.v2.imread(img_bytes)\n",
    "    frames.append(img)"
   ]
  },
  {
   "cell_type": "code",
   "execution_count": 14,
   "metadata": {},
   "outputs": [
    {
     "name": "stderr",
     "output_type": "stream",
     "text": [
      "IMAGEIO FFMPEG_WRITER WARNING: input image is not divisible by macro_block_size=16, resizing from (700, 500) to (704, 512) to ensure video compatibility with most codecs and players. To prevent resizing, make your input image divisible by the macro_block_size or set the macro_block_size to 1 (risking incompatibility).\n"
     ]
    }
   ],
   "source": [
    "# Save frames as a video\n",
    "imageio.mimsave(\"video.mp4\", frames, fps=30)"
   ]
  }
 ],
 "metadata": {
  "kernelspec": {
   "display_name": ".venv",
   "language": "python",
   "name": "python3"
  },
  "language_info": {
   "codemirror_mode": {
    "name": "ipython",
    "version": 3
   },
   "file_extension": ".py",
   "mimetype": "text/x-python",
   "name": "python",
   "nbconvert_exporter": "python",
   "pygments_lexer": "ipython3",
   "version": "3.10.12"
  }
 },
 "nbformat": 4,
 "nbformat_minor": 2
}
