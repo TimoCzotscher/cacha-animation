{
 "cells": [
  {
   "cell_type": "code",
   "execution_count": 1,
   "metadata": {},
   "outputs": [],
   "source": [
    "import plotly.express as px\n",
    "import pandas as pd"
   ]
  },
  {
   "cell_type": "code",
   "execution_count": 2,
   "metadata": {},
   "outputs": [],
   "source": [
    "# Sample data\n",
    "list_lon = []\n",
    "list_lat = []\n",
    "list_time = []\n",
    "list_team = []\n",
    "for t in range(1, 20+1):\n",
    "    list_lat.extend([49.0176 + 0.00005*t, 49.0176 - 0.00005 * t, 49.0176, 49.0176])\n",
    "    list_lon.extend([12.0974, 12.0974, 12.0974 + 0.00005 * t, 12.0974 - 0.00005 * t])\n",
    "    list_time.extend([t, t, t, t])\n",
    "    list_team.extend(['A', 'B', 'C', 'D'])   \n",
    "\n",
    "data = {\n",
    "    'lon': list_lon,\n",
    "    'lat': list_lat,\n",
    "    'time': list_time,\n",
    "    'team': list_team\n",
    "}\n",
    "\n",
    "df = pd.DataFrame(data)"
   ]
  },
  {
   "cell_type": "code",
   "execution_count": 3,
   "metadata": {},
   "outputs": [
    {
     "data": {
      "application/vnd.plotly.v1+json": {
       "config": {
        "plotlyServerURL": "https://plot.ly"
       },
       "data": [
        {
         "hovertemplate": "team=A<br>time=1<br>lat=%{lat}<br>lon=%{lon}<extra></extra>",
         "ids": [
          "A"
         ],
         "lat": [
          49.01765
         ],
         "legendgroup": "A",
         "lon": [
          12.0974
         ],
         "marker": {
          "color": "#636efa"
         },
         "mode": "markers",
         "name": "A",
         "showlegend": true,
         "subplot": "mapbox",
         "type": "scattermapbox"
        },
        {
         "hovertemplate": "team=B<br>time=1<br>lat=%{lat}<br>lon=%{lon}<extra></extra>",
         "ids": [
          "B"
         ],
         "lat": [
          49.01755
         ],
         "legendgroup": "B",
         "lon": [
          12.0974
         ],
         "marker": {
          "color": "#EF553B"
         },
         "mode": "markers",
         "name": "B",
         "showlegend": true,
         "subplot": "mapbox",
         "type": "scattermapbox"
        },
        {
         "hovertemplate": "team=C<br>time=1<br>lat=%{lat}<br>lon=%{lon}<extra></extra>",
         "ids": [
          "C"
         ],
         "lat": [
          49.0176
         ],
         "legendgroup": "C",
         "lon": [
          12.09745
         ],
         "marker": {
          "color": "#00cc96"
         },
         "mode": "markers",
         "name": "C",
         "showlegend": true,
         "subplot": "mapbox",
         "type": "scattermapbox"
        },
        {
         "hovertemplate": "team=D<br>time=1<br>lat=%{lat}<br>lon=%{lon}<extra></extra>",
         "ids": [
          "D"
         ],
         "lat": [
          49.0176
         ],
         "legendgroup": "D",
         "lon": [
          12.09735
         ],
         "marker": {
          "color": "#ab63fa"
         },
         "mode": "markers",
         "name": "D",
         "showlegend": true,
         "subplot": "mapbox",
         "type": "scattermapbox"
        }
       ],
       "frames": [
        {
         "data": [
          {
           "hovertemplate": "team=A<br>time=1<br>lat=%{lat}<br>lon=%{lon}<extra></extra>",
           "ids": [
            "A"
           ],
           "lat": [
            49.01765
           ],
           "legendgroup": "A",
           "lon": [
            12.0974
           ],
           "marker": {
            "color": "#636efa"
           },
           "mode": "markers",
           "name": "A",
           "showlegend": true,
           "subplot": "mapbox",
           "type": "scattermapbox"
          },
          {
           "hovertemplate": "team=B<br>time=1<br>lat=%{lat}<br>lon=%{lon}<extra></extra>",
           "ids": [
            "B"
           ],
           "lat": [
            49.01755
           ],
           "legendgroup": "B",
           "lon": [
            12.0974
           ],
           "marker": {
            "color": "#EF553B"
           },
           "mode": "markers",
           "name": "B",
           "showlegend": true,
           "subplot": "mapbox",
           "type": "scattermapbox"
          },
          {
           "hovertemplate": "team=C<br>time=1<br>lat=%{lat}<br>lon=%{lon}<extra></extra>",
           "ids": [
            "C"
           ],
           "lat": [
            49.0176
           ],
           "legendgroup": "C",
           "lon": [
            12.09745
           ],
           "marker": {
            "color": "#00cc96"
           },
           "mode": "markers",
           "name": "C",
           "showlegend": true,
           "subplot": "mapbox",
           "type": "scattermapbox"
          },
          {
           "hovertemplate": "team=D<br>time=1<br>lat=%{lat}<br>lon=%{lon}<extra></extra>",
           "ids": [
            "D"
           ],
           "lat": [
            49.0176
           ],
           "legendgroup": "D",
           "lon": [
            12.09735
           ],
           "marker": {
            "color": "#ab63fa"
           },
           "mode": "markers",
           "name": "D",
           "showlegend": true,
           "subplot": "mapbox",
           "type": "scattermapbox"
          }
         ],
         "name": "1"
        },
        {
         "data": [
          {
           "hovertemplate": "team=A<br>time=2<br>lat=%{lat}<br>lon=%{lon}<extra></extra>",
           "ids": [
            "A"
           ],
           "lat": [
            49.017700000000005
           ],
           "legendgroup": "A",
           "lon": [
            12.0974
           ],
           "marker": {
            "color": "#636efa"
           },
           "mode": "markers",
           "name": "A",
           "showlegend": true,
           "subplot": "mapbox",
           "type": "scattermapbox"
          },
          {
           "hovertemplate": "team=B<br>time=2<br>lat=%{lat}<br>lon=%{lon}<extra></extra>",
           "ids": [
            "B"
           ],
           "lat": [
            49.0175
           ],
           "legendgroup": "B",
           "lon": [
            12.0974
           ],
           "marker": {
            "color": "#EF553B"
           },
           "mode": "markers",
           "name": "B",
           "showlegend": true,
           "subplot": "mapbox",
           "type": "scattermapbox"
          },
          {
           "hovertemplate": "team=C<br>time=2<br>lat=%{lat}<br>lon=%{lon}<extra></extra>",
           "ids": [
            "C"
           ],
           "lat": [
            49.0176
           ],
           "legendgroup": "C",
           "lon": [
            12.0975
           ],
           "marker": {
            "color": "#00cc96"
           },
           "mode": "markers",
           "name": "C",
           "showlegend": true,
           "subplot": "mapbox",
           "type": "scattermapbox"
          },
          {
           "hovertemplate": "team=D<br>time=2<br>lat=%{lat}<br>lon=%{lon}<extra></extra>",
           "ids": [
            "D"
           ],
           "lat": [
            49.0176
           ],
           "legendgroup": "D",
           "lon": [
            12.0973
           ],
           "marker": {
            "color": "#ab63fa"
           },
           "mode": "markers",
           "name": "D",
           "showlegend": true,
           "subplot": "mapbox",
           "type": "scattermapbox"
          }
         ],
         "name": "2"
        },
        {
         "data": [
          {
           "hovertemplate": "team=A<br>time=3<br>lat=%{lat}<br>lon=%{lon}<extra></extra>",
           "ids": [
            "A"
           ],
           "lat": [
            49.01775
           ],
           "legendgroup": "A",
           "lon": [
            12.0974
           ],
           "marker": {
            "color": "#636efa"
           },
           "mode": "markers",
           "name": "A",
           "showlegend": true,
           "subplot": "mapbox",
           "type": "scattermapbox"
          },
          {
           "hovertemplate": "team=B<br>time=3<br>lat=%{lat}<br>lon=%{lon}<extra></extra>",
           "ids": [
            "B"
           ],
           "lat": [
            49.017450000000004
           ],
           "legendgroup": "B",
           "lon": [
            12.0974
           ],
           "marker": {
            "color": "#EF553B"
           },
           "mode": "markers",
           "name": "B",
           "showlegend": true,
           "subplot": "mapbox",
           "type": "scattermapbox"
          },
          {
           "hovertemplate": "team=C<br>time=3<br>lat=%{lat}<br>lon=%{lon}<extra></extra>",
           "ids": [
            "C"
           ],
           "lat": [
            49.0176
           ],
           "legendgroup": "C",
           "lon": [
            12.09755
           ],
           "marker": {
            "color": "#00cc96"
           },
           "mode": "markers",
           "name": "C",
           "showlegend": true,
           "subplot": "mapbox",
           "type": "scattermapbox"
          },
          {
           "hovertemplate": "team=D<br>time=3<br>lat=%{lat}<br>lon=%{lon}<extra></extra>",
           "ids": [
            "D"
           ],
           "lat": [
            49.0176
           ],
           "legendgroup": "D",
           "lon": [
            12.09725
           ],
           "marker": {
            "color": "#ab63fa"
           },
           "mode": "markers",
           "name": "D",
           "showlegend": true,
           "subplot": "mapbox",
           "type": "scattermapbox"
          }
         ],
         "name": "3"
        },
        {
         "data": [
          {
           "hovertemplate": "team=A<br>time=4<br>lat=%{lat}<br>lon=%{lon}<extra></extra>",
           "ids": [
            "A"
           ],
           "lat": [
            49.0178
           ],
           "legendgroup": "A",
           "lon": [
            12.0974
           ],
           "marker": {
            "color": "#636efa"
           },
           "mode": "markers",
           "name": "A",
           "showlegend": true,
           "subplot": "mapbox",
           "type": "scattermapbox"
          },
          {
           "hovertemplate": "team=B<br>time=4<br>lat=%{lat}<br>lon=%{lon}<extra></extra>",
           "ids": [
            "B"
           ],
           "lat": [
            49.0174
           ],
           "legendgroup": "B",
           "lon": [
            12.0974
           ],
           "marker": {
            "color": "#EF553B"
           },
           "mode": "markers",
           "name": "B",
           "showlegend": true,
           "subplot": "mapbox",
           "type": "scattermapbox"
          },
          {
           "hovertemplate": "team=C<br>time=4<br>lat=%{lat}<br>lon=%{lon}<extra></extra>",
           "ids": [
            "C"
           ],
           "lat": [
            49.0176
           ],
           "legendgroup": "C",
           "lon": [
            12.0976
           ],
           "marker": {
            "color": "#00cc96"
           },
           "mode": "markers",
           "name": "C",
           "showlegend": true,
           "subplot": "mapbox",
           "type": "scattermapbox"
          },
          {
           "hovertemplate": "team=D<br>time=4<br>lat=%{lat}<br>lon=%{lon}<extra></extra>",
           "ids": [
            "D"
           ],
           "lat": [
            49.0176
           ],
           "legendgroup": "D",
           "lon": [
            12.0972
           ],
           "marker": {
            "color": "#ab63fa"
           },
           "mode": "markers",
           "name": "D",
           "showlegend": true,
           "subplot": "mapbox",
           "type": "scattermapbox"
          }
         ],
         "name": "4"
        },
        {
         "data": [
          {
           "hovertemplate": "team=A<br>time=5<br>lat=%{lat}<br>lon=%{lon}<extra></extra>",
           "ids": [
            "A"
           ],
           "lat": [
            49.01785
           ],
           "legendgroup": "A",
           "lon": [
            12.0974
           ],
           "marker": {
            "color": "#636efa"
           },
           "mode": "markers",
           "name": "A",
           "showlegend": true,
           "subplot": "mapbox",
           "type": "scattermapbox"
          },
          {
           "hovertemplate": "team=B<br>time=5<br>lat=%{lat}<br>lon=%{lon}<extra></extra>",
           "ids": [
            "B"
           ],
           "lat": [
            49.01735
           ],
           "legendgroup": "B",
           "lon": [
            12.0974
           ],
           "marker": {
            "color": "#EF553B"
           },
           "mode": "markers",
           "name": "B",
           "showlegend": true,
           "subplot": "mapbox",
           "type": "scattermapbox"
          },
          {
           "hovertemplate": "team=C<br>time=5<br>lat=%{lat}<br>lon=%{lon}<extra></extra>",
           "ids": [
            "C"
           ],
           "lat": [
            49.0176
           ],
           "legendgroup": "C",
           "lon": [
            12.09765
           ],
           "marker": {
            "color": "#00cc96"
           },
           "mode": "markers",
           "name": "C",
           "showlegend": true,
           "subplot": "mapbox",
           "type": "scattermapbox"
          },
          {
           "hovertemplate": "team=D<br>time=5<br>lat=%{lat}<br>lon=%{lon}<extra></extra>",
           "ids": [
            "D"
           ],
           "lat": [
            49.0176
           ],
           "legendgroup": "D",
           "lon": [
            12.097150000000001
           ],
           "marker": {
            "color": "#ab63fa"
           },
           "mode": "markers",
           "name": "D",
           "showlegend": true,
           "subplot": "mapbox",
           "type": "scattermapbox"
          }
         ],
         "name": "5"
        },
        {
         "data": [
          {
           "hovertemplate": "team=A<br>time=6<br>lat=%{lat}<br>lon=%{lon}<extra></extra>",
           "ids": [
            "A"
           ],
           "lat": [
            49.017900000000004
           ],
           "legendgroup": "A",
           "lon": [
            12.0974
           ],
           "marker": {
            "color": "#636efa"
           },
           "mode": "markers",
           "name": "A",
           "showlegend": true,
           "subplot": "mapbox",
           "type": "scattermapbox"
          },
          {
           "hovertemplate": "team=B<br>time=6<br>lat=%{lat}<br>lon=%{lon}<extra></extra>",
           "ids": [
            "B"
           ],
           "lat": [
            49.0173
           ],
           "legendgroup": "B",
           "lon": [
            12.0974
           ],
           "marker": {
            "color": "#EF553B"
           },
           "mode": "markers",
           "name": "B",
           "showlegend": true,
           "subplot": "mapbox",
           "type": "scattermapbox"
          },
          {
           "hovertemplate": "team=C<br>time=6<br>lat=%{lat}<br>lon=%{lon}<extra></extra>",
           "ids": [
            "C"
           ],
           "lat": [
            49.0176
           ],
           "legendgroup": "C",
           "lon": [
            12.0977
           ],
           "marker": {
            "color": "#00cc96"
           },
           "mode": "markers",
           "name": "C",
           "showlegend": true,
           "subplot": "mapbox",
           "type": "scattermapbox"
          },
          {
           "hovertemplate": "team=D<br>time=6<br>lat=%{lat}<br>lon=%{lon}<extra></extra>",
           "ids": [
            "D"
           ],
           "lat": [
            49.0176
           ],
           "legendgroup": "D",
           "lon": [
            12.097100000000001
           ],
           "marker": {
            "color": "#ab63fa"
           },
           "mode": "markers",
           "name": "D",
           "showlegend": true,
           "subplot": "mapbox",
           "type": "scattermapbox"
          }
         ],
         "name": "6"
        },
        {
         "data": [
          {
           "hovertemplate": "team=A<br>time=7<br>lat=%{lat}<br>lon=%{lon}<extra></extra>",
           "ids": [
            "A"
           ],
           "lat": [
            49.01795
           ],
           "legendgroup": "A",
           "lon": [
            12.0974
           ],
           "marker": {
            "color": "#636efa"
           },
           "mode": "markers",
           "name": "A",
           "showlegend": true,
           "subplot": "mapbox",
           "type": "scattermapbox"
          },
          {
           "hovertemplate": "team=B<br>time=7<br>lat=%{lat}<br>lon=%{lon}<extra></extra>",
           "ids": [
            "B"
           ],
           "lat": [
            49.017250000000004
           ],
           "legendgroup": "B",
           "lon": [
            12.0974
           ],
           "marker": {
            "color": "#EF553B"
           },
           "mode": "markers",
           "name": "B",
           "showlegend": true,
           "subplot": "mapbox",
           "type": "scattermapbox"
          },
          {
           "hovertemplate": "team=C<br>time=7<br>lat=%{lat}<br>lon=%{lon}<extra></extra>",
           "ids": [
            "C"
           ],
           "lat": [
            49.0176
           ],
           "legendgroup": "C",
           "lon": [
            12.09775
           ],
           "marker": {
            "color": "#00cc96"
           },
           "mode": "markers",
           "name": "C",
           "showlegend": true,
           "subplot": "mapbox",
           "type": "scattermapbox"
          },
          {
           "hovertemplate": "team=D<br>time=7<br>lat=%{lat}<br>lon=%{lon}<extra></extra>",
           "ids": [
            "D"
           ],
           "lat": [
            49.0176
           ],
           "legendgroup": "D",
           "lon": [
            12.097050000000001
           ],
           "marker": {
            "color": "#ab63fa"
           },
           "mode": "markers",
           "name": "D",
           "showlegend": true,
           "subplot": "mapbox",
           "type": "scattermapbox"
          }
         ],
         "name": "7"
        },
        {
         "data": [
          {
           "hovertemplate": "team=A<br>time=8<br>lat=%{lat}<br>lon=%{lon}<extra></extra>",
           "ids": [
            "A"
           ],
           "lat": [
            49.018
           ],
           "legendgroup": "A",
           "lon": [
            12.0974
           ],
           "marker": {
            "color": "#636efa"
           },
           "mode": "markers",
           "name": "A",
           "showlegend": true,
           "subplot": "mapbox",
           "type": "scattermapbox"
          },
          {
           "hovertemplate": "team=B<br>time=8<br>lat=%{lat}<br>lon=%{lon}<extra></extra>",
           "ids": [
            "B"
           ],
           "lat": [
            49.0172
           ],
           "legendgroup": "B",
           "lon": [
            12.0974
           ],
           "marker": {
            "color": "#EF553B"
           },
           "mode": "markers",
           "name": "B",
           "showlegend": true,
           "subplot": "mapbox",
           "type": "scattermapbox"
          },
          {
           "hovertemplate": "team=C<br>time=8<br>lat=%{lat}<br>lon=%{lon}<extra></extra>",
           "ids": [
            "C"
           ],
           "lat": [
            49.0176
           ],
           "legendgroup": "C",
           "lon": [
            12.097800000000001
           ],
           "marker": {
            "color": "#00cc96"
           },
           "mode": "markers",
           "name": "C",
           "showlegend": true,
           "subplot": "mapbox",
           "type": "scattermapbox"
          },
          {
           "hovertemplate": "team=D<br>time=8<br>lat=%{lat}<br>lon=%{lon}<extra></extra>",
           "ids": [
            "D"
           ],
           "lat": [
            49.0176
           ],
           "legendgroup": "D",
           "lon": [
            12.097
           ],
           "marker": {
            "color": "#ab63fa"
           },
           "mode": "markers",
           "name": "D",
           "showlegend": true,
           "subplot": "mapbox",
           "type": "scattermapbox"
          }
         ],
         "name": "8"
        },
        {
         "data": [
          {
           "hovertemplate": "team=A<br>time=9<br>lat=%{lat}<br>lon=%{lon}<extra></extra>",
           "ids": [
            "A"
           ],
           "lat": [
            49.01805
           ],
           "legendgroup": "A",
           "lon": [
            12.0974
           ],
           "marker": {
            "color": "#636efa"
           },
           "mode": "markers",
           "name": "A",
           "showlegend": true,
           "subplot": "mapbox",
           "type": "scattermapbox"
          },
          {
           "hovertemplate": "team=B<br>time=9<br>lat=%{lat}<br>lon=%{lon}<extra></extra>",
           "ids": [
            "B"
           ],
           "lat": [
            49.01715
           ],
           "legendgroup": "B",
           "lon": [
            12.0974
           ],
           "marker": {
            "color": "#EF553B"
           },
           "mode": "markers",
           "name": "B",
           "showlegend": true,
           "subplot": "mapbox",
           "type": "scattermapbox"
          },
          {
           "hovertemplate": "team=C<br>time=9<br>lat=%{lat}<br>lon=%{lon}<extra></extra>",
           "ids": [
            "C"
           ],
           "lat": [
            49.0176
           ],
           "legendgroup": "C",
           "lon": [
            12.097850000000001
           ],
           "marker": {
            "color": "#00cc96"
           },
           "mode": "markers",
           "name": "C",
           "showlegend": true,
           "subplot": "mapbox",
           "type": "scattermapbox"
          },
          {
           "hovertemplate": "team=D<br>time=9<br>lat=%{lat}<br>lon=%{lon}<extra></extra>",
           "ids": [
            "D"
           ],
           "lat": [
            49.0176
           ],
           "legendgroup": "D",
           "lon": [
            12.09695
           ],
           "marker": {
            "color": "#ab63fa"
           },
           "mode": "markers",
           "name": "D",
           "showlegend": true,
           "subplot": "mapbox",
           "type": "scattermapbox"
          }
         ],
         "name": "9"
        },
        {
         "data": [
          {
           "hovertemplate": "team=A<br>time=10<br>lat=%{lat}<br>lon=%{lon}<extra></extra>",
           "ids": [
            "A"
           ],
           "lat": [
            49.018100000000004
           ],
           "legendgroup": "A",
           "lon": [
            12.0974
           ],
           "marker": {
            "color": "#636efa"
           },
           "mode": "markers",
           "name": "A",
           "showlegend": true,
           "subplot": "mapbox",
           "type": "scattermapbox"
          },
          {
           "hovertemplate": "team=B<br>time=10<br>lat=%{lat}<br>lon=%{lon}<extra></extra>",
           "ids": [
            "B"
           ],
           "lat": [
            49.0171
           ],
           "legendgroup": "B",
           "lon": [
            12.0974
           ],
           "marker": {
            "color": "#EF553B"
           },
           "mode": "markers",
           "name": "B",
           "showlegend": true,
           "subplot": "mapbox",
           "type": "scattermapbox"
          },
          {
           "hovertemplate": "team=C<br>time=10<br>lat=%{lat}<br>lon=%{lon}<extra></extra>",
           "ids": [
            "C"
           ],
           "lat": [
            49.0176
           ],
           "legendgroup": "C",
           "lon": [
            12.097900000000001
           ],
           "marker": {
            "color": "#00cc96"
           },
           "mode": "markers",
           "name": "C",
           "showlegend": true,
           "subplot": "mapbox",
           "type": "scattermapbox"
          },
          {
           "hovertemplate": "team=D<br>time=10<br>lat=%{lat}<br>lon=%{lon}<extra></extra>",
           "ids": [
            "D"
           ],
           "lat": [
            49.0176
           ],
           "legendgroup": "D",
           "lon": [
            12.0969
           ],
           "marker": {
            "color": "#ab63fa"
           },
           "mode": "markers",
           "name": "D",
           "showlegend": true,
           "subplot": "mapbox",
           "type": "scattermapbox"
          }
         ],
         "name": "10"
        },
        {
         "data": [
          {
           "hovertemplate": "team=A<br>time=11<br>lat=%{lat}<br>lon=%{lon}<extra></extra>",
           "ids": [
            "A"
           ],
           "lat": [
            49.01815
           ],
           "legendgroup": "A",
           "lon": [
            12.0974
           ],
           "marker": {
            "color": "#636efa"
           },
           "mode": "markers",
           "name": "A",
           "showlegend": true,
           "subplot": "mapbox",
           "type": "scattermapbox"
          },
          {
           "hovertemplate": "team=B<br>time=11<br>lat=%{lat}<br>lon=%{lon}<extra></extra>",
           "ids": [
            "B"
           ],
           "lat": [
            49.017050000000005
           ],
           "legendgroup": "B",
           "lon": [
            12.0974
           ],
           "marker": {
            "color": "#EF553B"
           },
           "mode": "markers",
           "name": "B",
           "showlegend": true,
           "subplot": "mapbox",
           "type": "scattermapbox"
          },
          {
           "hovertemplate": "team=C<br>time=11<br>lat=%{lat}<br>lon=%{lon}<extra></extra>",
           "ids": [
            "C"
           ],
           "lat": [
            49.0176
           ],
           "legendgroup": "C",
           "lon": [
            12.09795
           ],
           "marker": {
            "color": "#00cc96"
           },
           "mode": "markers",
           "name": "C",
           "showlegend": true,
           "subplot": "mapbox",
           "type": "scattermapbox"
          },
          {
           "hovertemplate": "team=D<br>time=11<br>lat=%{lat}<br>lon=%{lon}<extra></extra>",
           "ids": [
            "D"
           ],
           "lat": [
            49.0176
           ],
           "legendgroup": "D",
           "lon": [
            12.09685
           ],
           "marker": {
            "color": "#ab63fa"
           },
           "mode": "markers",
           "name": "D",
           "showlegend": true,
           "subplot": "mapbox",
           "type": "scattermapbox"
          }
         ],
         "name": "11"
        },
        {
         "data": [
          {
           "hovertemplate": "team=A<br>time=12<br>lat=%{lat}<br>lon=%{lon}<extra></extra>",
           "ids": [
            "A"
           ],
           "lat": [
            49.0182
           ],
           "legendgroup": "A",
           "lon": [
            12.0974
           ],
           "marker": {
            "color": "#636efa"
           },
           "mode": "markers",
           "name": "A",
           "showlegend": true,
           "subplot": "mapbox",
           "type": "scattermapbox"
          },
          {
           "hovertemplate": "team=B<br>time=12<br>lat=%{lat}<br>lon=%{lon}<extra></extra>",
           "ids": [
            "B"
           ],
           "lat": [
            49.017
           ],
           "legendgroup": "B",
           "lon": [
            12.0974
           ],
           "marker": {
            "color": "#EF553B"
           },
           "mode": "markers",
           "name": "B",
           "showlegend": true,
           "subplot": "mapbox",
           "type": "scattermapbox"
          },
          {
           "hovertemplate": "team=C<br>time=12<br>lat=%{lat}<br>lon=%{lon}<extra></extra>",
           "ids": [
            "C"
           ],
           "lat": [
            49.0176
           ],
           "legendgroup": "C",
           "lon": [
            12.098
           ],
           "marker": {
            "color": "#00cc96"
           },
           "mode": "markers",
           "name": "C",
           "showlegend": true,
           "subplot": "mapbox",
           "type": "scattermapbox"
          },
          {
           "hovertemplate": "team=D<br>time=12<br>lat=%{lat}<br>lon=%{lon}<extra></extra>",
           "ids": [
            "D"
           ],
           "lat": [
            49.0176
           ],
           "legendgroup": "D",
           "lon": [
            12.0968
           ],
           "marker": {
            "color": "#ab63fa"
           },
           "mode": "markers",
           "name": "D",
           "showlegend": true,
           "subplot": "mapbox",
           "type": "scattermapbox"
          }
         ],
         "name": "12"
        },
        {
         "data": [
          {
           "hovertemplate": "team=A<br>time=13<br>lat=%{lat}<br>lon=%{lon}<extra></extra>",
           "ids": [
            "A"
           ],
           "lat": [
            49.01825
           ],
           "legendgroup": "A",
           "lon": [
            12.0974
           ],
           "marker": {
            "color": "#636efa"
           },
           "mode": "markers",
           "name": "A",
           "showlegend": true,
           "subplot": "mapbox",
           "type": "scattermapbox"
          },
          {
           "hovertemplate": "team=B<br>time=13<br>lat=%{lat}<br>lon=%{lon}<extra></extra>",
           "ids": [
            "B"
           ],
           "lat": [
            49.01695
           ],
           "legendgroup": "B",
           "lon": [
            12.0974
           ],
           "marker": {
            "color": "#EF553B"
           },
           "mode": "markers",
           "name": "B",
           "showlegend": true,
           "subplot": "mapbox",
           "type": "scattermapbox"
          },
          {
           "hovertemplate": "team=C<br>time=13<br>lat=%{lat}<br>lon=%{lon}<extra></extra>",
           "ids": [
            "C"
           ],
           "lat": [
            49.0176
           ],
           "legendgroup": "C",
           "lon": [
            12.09805
           ],
           "marker": {
            "color": "#00cc96"
           },
           "mode": "markers",
           "name": "C",
           "showlegend": true,
           "subplot": "mapbox",
           "type": "scattermapbox"
          },
          {
           "hovertemplate": "team=D<br>time=13<br>lat=%{lat}<br>lon=%{lon}<extra></extra>",
           "ids": [
            "D"
           ],
           "lat": [
            49.0176
           ],
           "legendgroup": "D",
           "lon": [
            12.09675
           ],
           "marker": {
            "color": "#ab63fa"
           },
           "mode": "markers",
           "name": "D",
           "showlegend": true,
           "subplot": "mapbox",
           "type": "scattermapbox"
          }
         ],
         "name": "13"
        },
        {
         "data": [
          {
           "hovertemplate": "team=A<br>time=14<br>lat=%{lat}<br>lon=%{lon}<extra></extra>",
           "ids": [
            "A"
           ],
           "lat": [
            49.0183
           ],
           "legendgroup": "A",
           "lon": [
            12.0974
           ],
           "marker": {
            "color": "#636efa"
           },
           "mode": "markers",
           "name": "A",
           "showlegend": true,
           "subplot": "mapbox",
           "type": "scattermapbox"
          },
          {
           "hovertemplate": "team=B<br>time=14<br>lat=%{lat}<br>lon=%{lon}<extra></extra>",
           "ids": [
            "B"
           ],
           "lat": [
            49.0169
           ],
           "legendgroup": "B",
           "lon": [
            12.0974
           ],
           "marker": {
            "color": "#EF553B"
           },
           "mode": "markers",
           "name": "B",
           "showlegend": true,
           "subplot": "mapbox",
           "type": "scattermapbox"
          },
          {
           "hovertemplate": "team=C<br>time=14<br>lat=%{lat}<br>lon=%{lon}<extra></extra>",
           "ids": [
            "C"
           ],
           "lat": [
            49.0176
           ],
           "legendgroup": "C",
           "lon": [
            12.0981
           ],
           "marker": {
            "color": "#00cc96"
           },
           "mode": "markers",
           "name": "C",
           "showlegend": true,
           "subplot": "mapbox",
           "type": "scattermapbox"
          },
          {
           "hovertemplate": "team=D<br>time=14<br>lat=%{lat}<br>lon=%{lon}<extra></extra>",
           "ids": [
            "D"
           ],
           "lat": [
            49.0176
           ],
           "legendgroup": "D",
           "lon": [
            12.0967
           ],
           "marker": {
            "color": "#ab63fa"
           },
           "mode": "markers",
           "name": "D",
           "showlegend": true,
           "subplot": "mapbox",
           "type": "scattermapbox"
          }
         ],
         "name": "14"
        },
        {
         "data": [
          {
           "hovertemplate": "team=A<br>time=15<br>lat=%{lat}<br>lon=%{lon}<extra></extra>",
           "ids": [
            "A"
           ],
           "lat": [
            49.01835
           ],
           "legendgroup": "A",
           "lon": [
            12.0974
           ],
           "marker": {
            "color": "#636efa"
           },
           "mode": "markers",
           "name": "A",
           "showlegend": true,
           "subplot": "mapbox",
           "type": "scattermapbox"
          },
          {
           "hovertemplate": "team=B<br>time=15<br>lat=%{lat}<br>lon=%{lon}<extra></extra>",
           "ids": [
            "B"
           ],
           "lat": [
            49.016850000000005
           ],
           "legendgroup": "B",
           "lon": [
            12.0974
           ],
           "marker": {
            "color": "#EF553B"
           },
           "mode": "markers",
           "name": "B",
           "showlegend": true,
           "subplot": "mapbox",
           "type": "scattermapbox"
          },
          {
           "hovertemplate": "team=C<br>time=15<br>lat=%{lat}<br>lon=%{lon}<extra></extra>",
           "ids": [
            "C"
           ],
           "lat": [
            49.0176
           ],
           "legendgroup": "C",
           "lon": [
            12.09815
           ],
           "marker": {
            "color": "#00cc96"
           },
           "mode": "markers",
           "name": "C",
           "showlegend": true,
           "subplot": "mapbox",
           "type": "scattermapbox"
          },
          {
           "hovertemplate": "team=D<br>time=15<br>lat=%{lat}<br>lon=%{lon}<extra></extra>",
           "ids": [
            "D"
           ],
           "lat": [
            49.0176
           ],
           "legendgroup": "D",
           "lon": [
            12.09665
           ],
           "marker": {
            "color": "#ab63fa"
           },
           "mode": "markers",
           "name": "D",
           "showlegend": true,
           "subplot": "mapbox",
           "type": "scattermapbox"
          }
         ],
         "name": "15"
        },
        {
         "data": [
          {
           "hovertemplate": "team=A<br>time=16<br>lat=%{lat}<br>lon=%{lon}<extra></extra>",
           "ids": [
            "A"
           ],
           "lat": [
            49.0184
           ],
           "legendgroup": "A",
           "lon": [
            12.0974
           ],
           "marker": {
            "color": "#636efa"
           },
           "mode": "markers",
           "name": "A",
           "showlegend": true,
           "subplot": "mapbox",
           "type": "scattermapbox"
          },
          {
           "hovertemplate": "team=B<br>time=16<br>lat=%{lat}<br>lon=%{lon}<extra></extra>",
           "ids": [
            "B"
           ],
           "lat": [
            49.0168
           ],
           "legendgroup": "B",
           "lon": [
            12.0974
           ],
           "marker": {
            "color": "#EF553B"
           },
           "mode": "markers",
           "name": "B",
           "showlegend": true,
           "subplot": "mapbox",
           "type": "scattermapbox"
          },
          {
           "hovertemplate": "team=C<br>time=16<br>lat=%{lat}<br>lon=%{lon}<extra></extra>",
           "ids": [
            "C"
           ],
           "lat": [
            49.0176
           ],
           "legendgroup": "C",
           "lon": [
            12.0982
           ],
           "marker": {
            "color": "#00cc96"
           },
           "mode": "markers",
           "name": "C",
           "showlegend": true,
           "subplot": "mapbox",
           "type": "scattermapbox"
          },
          {
           "hovertemplate": "team=D<br>time=16<br>lat=%{lat}<br>lon=%{lon}<extra></extra>",
           "ids": [
            "D"
           ],
           "lat": [
            49.0176
           ],
           "legendgroup": "D",
           "lon": [
            12.0966
           ],
           "marker": {
            "color": "#ab63fa"
           },
           "mode": "markers",
           "name": "D",
           "showlegend": true,
           "subplot": "mapbox",
           "type": "scattermapbox"
          }
         ],
         "name": "16"
        },
        {
         "data": [
          {
           "hovertemplate": "team=A<br>time=17<br>lat=%{lat}<br>lon=%{lon}<extra></extra>",
           "ids": [
            "A"
           ],
           "lat": [
            49.01845
           ],
           "legendgroup": "A",
           "lon": [
            12.0974
           ],
           "marker": {
            "color": "#636efa"
           },
           "mode": "markers",
           "name": "A",
           "showlegend": true,
           "subplot": "mapbox",
           "type": "scattermapbox"
          },
          {
           "hovertemplate": "team=B<br>time=17<br>lat=%{lat}<br>lon=%{lon}<extra></extra>",
           "ids": [
            "B"
           ],
           "lat": [
            49.01675
           ],
           "legendgroup": "B",
           "lon": [
            12.0974
           ],
           "marker": {
            "color": "#EF553B"
           },
           "mode": "markers",
           "name": "B",
           "showlegend": true,
           "subplot": "mapbox",
           "type": "scattermapbox"
          },
          {
           "hovertemplate": "team=C<br>time=17<br>lat=%{lat}<br>lon=%{lon}<extra></extra>",
           "ids": [
            "C"
           ],
           "lat": [
            49.0176
           ],
           "legendgroup": "C",
           "lon": [
            12.09825
           ],
           "marker": {
            "color": "#00cc96"
           },
           "mode": "markers",
           "name": "C",
           "showlegend": true,
           "subplot": "mapbox",
           "type": "scattermapbox"
          },
          {
           "hovertemplate": "team=D<br>time=17<br>lat=%{lat}<br>lon=%{lon}<extra></extra>",
           "ids": [
            "D"
           ],
           "lat": [
            49.0176
           ],
           "legendgroup": "D",
           "lon": [
            12.09655
           ],
           "marker": {
            "color": "#ab63fa"
           },
           "mode": "markers",
           "name": "D",
           "showlegend": true,
           "subplot": "mapbox",
           "type": "scattermapbox"
          }
         ],
         "name": "17"
        },
        {
         "data": [
          {
           "hovertemplate": "team=A<br>time=18<br>lat=%{lat}<br>lon=%{lon}<extra></extra>",
           "ids": [
            "A"
           ],
           "lat": [
            49.0185
           ],
           "legendgroup": "A",
           "lon": [
            12.0974
           ],
           "marker": {
            "color": "#636efa"
           },
           "mode": "markers",
           "name": "A",
           "showlegend": true,
           "subplot": "mapbox",
           "type": "scattermapbox"
          },
          {
           "hovertemplate": "team=B<br>time=18<br>lat=%{lat}<br>lon=%{lon}<extra></extra>",
           "ids": [
            "B"
           ],
           "lat": [
            49.0167
           ],
           "legendgroup": "B",
           "lon": [
            12.0974
           ],
           "marker": {
            "color": "#EF553B"
           },
           "mode": "markers",
           "name": "B",
           "showlegend": true,
           "subplot": "mapbox",
           "type": "scattermapbox"
          },
          {
           "hovertemplate": "team=C<br>time=18<br>lat=%{lat}<br>lon=%{lon}<extra></extra>",
           "ids": [
            "C"
           ],
           "lat": [
            49.0176
           ],
           "legendgroup": "C",
           "lon": [
            12.0983
           ],
           "marker": {
            "color": "#00cc96"
           },
           "mode": "markers",
           "name": "C",
           "showlegend": true,
           "subplot": "mapbox",
           "type": "scattermapbox"
          },
          {
           "hovertemplate": "team=D<br>time=18<br>lat=%{lat}<br>lon=%{lon}<extra></extra>",
           "ids": [
            "D"
           ],
           "lat": [
            49.0176
           ],
           "legendgroup": "D",
           "lon": [
            12.0965
           ],
           "marker": {
            "color": "#ab63fa"
           },
           "mode": "markers",
           "name": "D",
           "showlegend": true,
           "subplot": "mapbox",
           "type": "scattermapbox"
          }
         ],
         "name": "18"
        },
        {
         "data": [
          {
           "hovertemplate": "team=A<br>time=19<br>lat=%{lat}<br>lon=%{lon}<extra></extra>",
           "ids": [
            "A"
           ],
           "lat": [
            49.018550000000005
           ],
           "legendgroup": "A",
           "lon": [
            12.0974
           ],
           "marker": {
            "color": "#636efa"
           },
           "mode": "markers",
           "name": "A",
           "showlegend": true,
           "subplot": "mapbox",
           "type": "scattermapbox"
          },
          {
           "hovertemplate": "team=B<br>time=19<br>lat=%{lat}<br>lon=%{lon}<extra></extra>",
           "ids": [
            "B"
           ],
           "lat": [
            49.01665
           ],
           "legendgroup": "B",
           "lon": [
            12.0974
           ],
           "marker": {
            "color": "#EF553B"
           },
           "mode": "markers",
           "name": "B",
           "showlegend": true,
           "subplot": "mapbox",
           "type": "scattermapbox"
          },
          {
           "hovertemplate": "team=C<br>time=19<br>lat=%{lat}<br>lon=%{lon}<extra></extra>",
           "ids": [
            "C"
           ],
           "lat": [
            49.0176
           ],
           "legendgroup": "C",
           "lon": [
            12.09835
           ],
           "marker": {
            "color": "#00cc96"
           },
           "mode": "markers",
           "name": "C",
           "showlegend": true,
           "subplot": "mapbox",
           "type": "scattermapbox"
          },
          {
           "hovertemplate": "team=D<br>time=19<br>lat=%{lat}<br>lon=%{lon}<extra></extra>",
           "ids": [
            "D"
           ],
           "lat": [
            49.0176
           ],
           "legendgroup": "D",
           "lon": [
            12.09645
           ],
           "marker": {
            "color": "#ab63fa"
           },
           "mode": "markers",
           "name": "D",
           "showlegend": true,
           "subplot": "mapbox",
           "type": "scattermapbox"
          }
         ],
         "name": "19"
        },
        {
         "data": [
          {
           "hovertemplate": "team=A<br>time=20<br>lat=%{lat}<br>lon=%{lon}<extra></extra>",
           "ids": [
            "A"
           ],
           "lat": [
            49.0186
           ],
           "legendgroup": "A",
           "lon": [
            12.0974
           ],
           "marker": {
            "color": "#636efa"
           },
           "mode": "markers",
           "name": "A",
           "showlegend": true,
           "subplot": "mapbox",
           "type": "scattermapbox"
          },
          {
           "hovertemplate": "team=B<br>time=20<br>lat=%{lat}<br>lon=%{lon}<extra></extra>",
           "ids": [
            "B"
           ],
           "lat": [
            49.016600000000004
           ],
           "legendgroup": "B",
           "lon": [
            12.0974
           ],
           "marker": {
            "color": "#EF553B"
           },
           "mode": "markers",
           "name": "B",
           "showlegend": true,
           "subplot": "mapbox",
           "type": "scattermapbox"
          },
          {
           "hovertemplate": "team=C<br>time=20<br>lat=%{lat}<br>lon=%{lon}<extra></extra>",
           "ids": [
            "C"
           ],
           "lat": [
            49.0176
           ],
           "legendgroup": "C",
           "lon": [
            12.0984
           ],
           "marker": {
            "color": "#00cc96"
           },
           "mode": "markers",
           "name": "C",
           "showlegend": true,
           "subplot": "mapbox",
           "type": "scattermapbox"
          },
          {
           "hovertemplate": "team=D<br>time=20<br>lat=%{lat}<br>lon=%{lon}<extra></extra>",
           "ids": [
            "D"
           ],
           "lat": [
            49.0176
           ],
           "legendgroup": "D",
           "lon": [
            12.096400000000001
           ],
           "marker": {
            "color": "#ab63fa"
           },
           "mode": "markers",
           "name": "D",
           "showlegend": true,
           "subplot": "mapbox",
           "type": "scattermapbox"
          }
         ],
         "name": "20"
        }
       ],
       "layout": {
        "legend": {
         "title": {
          "text": "team"
         },
         "tracegroupgap": 0
        },
        "mapbox": {
         "center": {
          "lat": 49.0176,
          "lon": 12.097399999999999
         },
         "domain": {
          "x": [
           0,
           1
          ],
          "y": [
           0,
           1
          ]
         },
         "style": "open-street-map",
         "zoom": 15
        },
        "margin": {
         "t": 60
        },
        "sliders": [
         {
          "active": 0,
          "currentvalue": {
           "prefix": "time="
          },
          "len": 0.9,
          "pad": {
           "b": 10,
           "t": 60
          },
          "steps": [
           {
            "args": [
             [
              "1"
             ],
             {
              "frame": {
               "duration": 0,
               "redraw": true
              },
              "fromcurrent": true,
              "mode": "immediate",
              "transition": {
               "duration": 0,
               "easing": "linear"
              }
             }
            ],
            "label": "1",
            "method": "animate"
           },
           {
            "args": [
             [
              "2"
             ],
             {
              "frame": {
               "duration": 0,
               "redraw": true
              },
              "fromcurrent": true,
              "mode": "immediate",
              "transition": {
               "duration": 0,
               "easing": "linear"
              }
             }
            ],
            "label": "2",
            "method": "animate"
           },
           {
            "args": [
             [
              "3"
             ],
             {
              "frame": {
               "duration": 0,
               "redraw": true
              },
              "fromcurrent": true,
              "mode": "immediate",
              "transition": {
               "duration": 0,
               "easing": "linear"
              }
             }
            ],
            "label": "3",
            "method": "animate"
           },
           {
            "args": [
             [
              "4"
             ],
             {
              "frame": {
               "duration": 0,
               "redraw": true
              },
              "fromcurrent": true,
              "mode": "immediate",
              "transition": {
               "duration": 0,
               "easing": "linear"
              }
             }
            ],
            "label": "4",
            "method": "animate"
           },
           {
            "args": [
             [
              "5"
             ],
             {
              "frame": {
               "duration": 0,
               "redraw": true
              },
              "fromcurrent": true,
              "mode": "immediate",
              "transition": {
               "duration": 0,
               "easing": "linear"
              }
             }
            ],
            "label": "5",
            "method": "animate"
           },
           {
            "args": [
             [
              "6"
             ],
             {
              "frame": {
               "duration": 0,
               "redraw": true
              },
              "fromcurrent": true,
              "mode": "immediate",
              "transition": {
               "duration": 0,
               "easing": "linear"
              }
             }
            ],
            "label": "6",
            "method": "animate"
           },
           {
            "args": [
             [
              "7"
             ],
             {
              "frame": {
               "duration": 0,
               "redraw": true
              },
              "fromcurrent": true,
              "mode": "immediate",
              "transition": {
               "duration": 0,
               "easing": "linear"
              }
             }
            ],
            "label": "7",
            "method": "animate"
           },
           {
            "args": [
             [
              "8"
             ],
             {
              "frame": {
               "duration": 0,
               "redraw": true
              },
              "fromcurrent": true,
              "mode": "immediate",
              "transition": {
               "duration": 0,
               "easing": "linear"
              }
             }
            ],
            "label": "8",
            "method": "animate"
           },
           {
            "args": [
             [
              "9"
             ],
             {
              "frame": {
               "duration": 0,
               "redraw": true
              },
              "fromcurrent": true,
              "mode": "immediate",
              "transition": {
               "duration": 0,
               "easing": "linear"
              }
             }
            ],
            "label": "9",
            "method": "animate"
           },
           {
            "args": [
             [
              "10"
             ],
             {
              "frame": {
               "duration": 0,
               "redraw": true
              },
              "fromcurrent": true,
              "mode": "immediate",
              "transition": {
               "duration": 0,
               "easing": "linear"
              }
             }
            ],
            "label": "10",
            "method": "animate"
           },
           {
            "args": [
             [
              "11"
             ],
             {
              "frame": {
               "duration": 0,
               "redraw": true
              },
              "fromcurrent": true,
              "mode": "immediate",
              "transition": {
               "duration": 0,
               "easing": "linear"
              }
             }
            ],
            "label": "11",
            "method": "animate"
           },
           {
            "args": [
             [
              "12"
             ],
             {
              "frame": {
               "duration": 0,
               "redraw": true
              },
              "fromcurrent": true,
              "mode": "immediate",
              "transition": {
               "duration": 0,
               "easing": "linear"
              }
             }
            ],
            "label": "12",
            "method": "animate"
           },
           {
            "args": [
             [
              "13"
             ],
             {
              "frame": {
               "duration": 0,
               "redraw": true
              },
              "fromcurrent": true,
              "mode": "immediate",
              "transition": {
               "duration": 0,
               "easing": "linear"
              }
             }
            ],
            "label": "13",
            "method": "animate"
           },
           {
            "args": [
             [
              "14"
             ],
             {
              "frame": {
               "duration": 0,
               "redraw": true
              },
              "fromcurrent": true,
              "mode": "immediate",
              "transition": {
               "duration": 0,
               "easing": "linear"
              }
             }
            ],
            "label": "14",
            "method": "animate"
           },
           {
            "args": [
             [
              "15"
             ],
             {
              "frame": {
               "duration": 0,
               "redraw": true
              },
              "fromcurrent": true,
              "mode": "immediate",
              "transition": {
               "duration": 0,
               "easing": "linear"
              }
             }
            ],
            "label": "15",
            "method": "animate"
           },
           {
            "args": [
             [
              "16"
             ],
             {
              "frame": {
               "duration": 0,
               "redraw": true
              },
              "fromcurrent": true,
              "mode": "immediate",
              "transition": {
               "duration": 0,
               "easing": "linear"
              }
             }
            ],
            "label": "16",
            "method": "animate"
           },
           {
            "args": [
             [
              "17"
             ],
             {
              "frame": {
               "duration": 0,
               "redraw": true
              },
              "fromcurrent": true,
              "mode": "immediate",
              "transition": {
               "duration": 0,
               "easing": "linear"
              }
             }
            ],
            "label": "17",
            "method": "animate"
           },
           {
            "args": [
             [
              "18"
             ],
             {
              "frame": {
               "duration": 0,
               "redraw": true
              },
              "fromcurrent": true,
              "mode": "immediate",
              "transition": {
               "duration": 0,
               "easing": "linear"
              }
             }
            ],
            "label": "18",
            "method": "animate"
           },
           {
            "args": [
             [
              "19"
             ],
             {
              "frame": {
               "duration": 0,
               "redraw": true
              },
              "fromcurrent": true,
              "mode": "immediate",
              "transition": {
               "duration": 0,
               "easing": "linear"
              }
             }
            ],
            "label": "19",
            "method": "animate"
           },
           {
            "args": [
             [
              "20"
             ],
             {
              "frame": {
               "duration": 0,
               "redraw": true
              },
              "fromcurrent": true,
              "mode": "immediate",
              "transition": {
               "duration": 0,
               "easing": "linear"
              }
             }
            ],
            "label": "20",
            "method": "animate"
           }
          ],
          "x": 0.1,
          "xanchor": "left",
          "y": 0,
          "yanchor": "top"
         }
        ],
        "template": {
         "data": {
          "bar": [
           {
            "error_x": {
             "color": "#2a3f5f"
            },
            "error_y": {
             "color": "#2a3f5f"
            },
            "marker": {
             "line": {
              "color": "#E5ECF6",
              "width": 0.5
             },
             "pattern": {
              "fillmode": "overlay",
              "size": 10,
              "solidity": 0.2
             }
            },
            "type": "bar"
           }
          ],
          "barpolar": [
           {
            "marker": {
             "line": {
              "color": "#E5ECF6",
              "width": 0.5
             },
             "pattern": {
              "fillmode": "overlay",
              "size": 10,
              "solidity": 0.2
             }
            },
            "type": "barpolar"
           }
          ],
          "carpet": [
           {
            "aaxis": {
             "endlinecolor": "#2a3f5f",
             "gridcolor": "white",
             "linecolor": "white",
             "minorgridcolor": "white",
             "startlinecolor": "#2a3f5f"
            },
            "baxis": {
             "endlinecolor": "#2a3f5f",
             "gridcolor": "white",
             "linecolor": "white",
             "minorgridcolor": "white",
             "startlinecolor": "#2a3f5f"
            },
            "type": "carpet"
           }
          ],
          "choropleth": [
           {
            "colorbar": {
             "outlinewidth": 0,
             "ticks": ""
            },
            "type": "choropleth"
           }
          ],
          "contour": [
           {
            "colorbar": {
             "outlinewidth": 0,
             "ticks": ""
            },
            "colorscale": [
             [
              0,
              "#0d0887"
             ],
             [
              0.1111111111111111,
              "#46039f"
             ],
             [
              0.2222222222222222,
              "#7201a8"
             ],
             [
              0.3333333333333333,
              "#9c179e"
             ],
             [
              0.4444444444444444,
              "#bd3786"
             ],
             [
              0.5555555555555556,
              "#d8576b"
             ],
             [
              0.6666666666666666,
              "#ed7953"
             ],
             [
              0.7777777777777778,
              "#fb9f3a"
             ],
             [
              0.8888888888888888,
              "#fdca26"
             ],
             [
              1,
              "#f0f921"
             ]
            ],
            "type": "contour"
           }
          ],
          "contourcarpet": [
           {
            "colorbar": {
             "outlinewidth": 0,
             "ticks": ""
            },
            "type": "contourcarpet"
           }
          ],
          "heatmap": [
           {
            "colorbar": {
             "outlinewidth": 0,
             "ticks": ""
            },
            "colorscale": [
             [
              0,
              "#0d0887"
             ],
             [
              0.1111111111111111,
              "#46039f"
             ],
             [
              0.2222222222222222,
              "#7201a8"
             ],
             [
              0.3333333333333333,
              "#9c179e"
             ],
             [
              0.4444444444444444,
              "#bd3786"
             ],
             [
              0.5555555555555556,
              "#d8576b"
             ],
             [
              0.6666666666666666,
              "#ed7953"
             ],
             [
              0.7777777777777778,
              "#fb9f3a"
             ],
             [
              0.8888888888888888,
              "#fdca26"
             ],
             [
              1,
              "#f0f921"
             ]
            ],
            "type": "heatmap"
           }
          ],
          "heatmapgl": [
           {
            "colorbar": {
             "outlinewidth": 0,
             "ticks": ""
            },
            "colorscale": [
             [
              0,
              "#0d0887"
             ],
             [
              0.1111111111111111,
              "#46039f"
             ],
             [
              0.2222222222222222,
              "#7201a8"
             ],
             [
              0.3333333333333333,
              "#9c179e"
             ],
             [
              0.4444444444444444,
              "#bd3786"
             ],
             [
              0.5555555555555556,
              "#d8576b"
             ],
             [
              0.6666666666666666,
              "#ed7953"
             ],
             [
              0.7777777777777778,
              "#fb9f3a"
             ],
             [
              0.8888888888888888,
              "#fdca26"
             ],
             [
              1,
              "#f0f921"
             ]
            ],
            "type": "heatmapgl"
           }
          ],
          "histogram": [
           {
            "marker": {
             "pattern": {
              "fillmode": "overlay",
              "size": 10,
              "solidity": 0.2
             }
            },
            "type": "histogram"
           }
          ],
          "histogram2d": [
           {
            "colorbar": {
             "outlinewidth": 0,
             "ticks": ""
            },
            "colorscale": [
             [
              0,
              "#0d0887"
             ],
             [
              0.1111111111111111,
              "#46039f"
             ],
             [
              0.2222222222222222,
              "#7201a8"
             ],
             [
              0.3333333333333333,
              "#9c179e"
             ],
             [
              0.4444444444444444,
              "#bd3786"
             ],
             [
              0.5555555555555556,
              "#d8576b"
             ],
             [
              0.6666666666666666,
              "#ed7953"
             ],
             [
              0.7777777777777778,
              "#fb9f3a"
             ],
             [
              0.8888888888888888,
              "#fdca26"
             ],
             [
              1,
              "#f0f921"
             ]
            ],
            "type": "histogram2d"
           }
          ],
          "histogram2dcontour": [
           {
            "colorbar": {
             "outlinewidth": 0,
             "ticks": ""
            },
            "colorscale": [
             [
              0,
              "#0d0887"
             ],
             [
              0.1111111111111111,
              "#46039f"
             ],
             [
              0.2222222222222222,
              "#7201a8"
             ],
             [
              0.3333333333333333,
              "#9c179e"
             ],
             [
              0.4444444444444444,
              "#bd3786"
             ],
             [
              0.5555555555555556,
              "#d8576b"
             ],
             [
              0.6666666666666666,
              "#ed7953"
             ],
             [
              0.7777777777777778,
              "#fb9f3a"
             ],
             [
              0.8888888888888888,
              "#fdca26"
             ],
             [
              1,
              "#f0f921"
             ]
            ],
            "type": "histogram2dcontour"
           }
          ],
          "mesh3d": [
           {
            "colorbar": {
             "outlinewidth": 0,
             "ticks": ""
            },
            "type": "mesh3d"
           }
          ],
          "parcoords": [
           {
            "line": {
             "colorbar": {
              "outlinewidth": 0,
              "ticks": ""
             }
            },
            "type": "parcoords"
           }
          ],
          "pie": [
           {
            "automargin": true,
            "type": "pie"
           }
          ],
          "scatter": [
           {
            "fillpattern": {
             "fillmode": "overlay",
             "size": 10,
             "solidity": 0.2
            },
            "type": "scatter"
           }
          ],
          "scatter3d": [
           {
            "line": {
             "colorbar": {
              "outlinewidth": 0,
              "ticks": ""
             }
            },
            "marker": {
             "colorbar": {
              "outlinewidth": 0,
              "ticks": ""
             }
            },
            "type": "scatter3d"
           }
          ],
          "scattercarpet": [
           {
            "marker": {
             "colorbar": {
              "outlinewidth": 0,
              "ticks": ""
             }
            },
            "type": "scattercarpet"
           }
          ],
          "scattergeo": [
           {
            "marker": {
             "colorbar": {
              "outlinewidth": 0,
              "ticks": ""
             }
            },
            "type": "scattergeo"
           }
          ],
          "scattergl": [
           {
            "marker": {
             "colorbar": {
              "outlinewidth": 0,
              "ticks": ""
             }
            },
            "type": "scattergl"
           }
          ],
          "scattermapbox": [
           {
            "marker": {
             "colorbar": {
              "outlinewidth": 0,
              "ticks": ""
             }
            },
            "type": "scattermapbox"
           }
          ],
          "scatterpolar": [
           {
            "marker": {
             "colorbar": {
              "outlinewidth": 0,
              "ticks": ""
             }
            },
            "type": "scatterpolar"
           }
          ],
          "scatterpolargl": [
           {
            "marker": {
             "colorbar": {
              "outlinewidth": 0,
              "ticks": ""
             }
            },
            "type": "scatterpolargl"
           }
          ],
          "scatterternary": [
           {
            "marker": {
             "colorbar": {
              "outlinewidth": 0,
              "ticks": ""
             }
            },
            "type": "scatterternary"
           }
          ],
          "surface": [
           {
            "colorbar": {
             "outlinewidth": 0,
             "ticks": ""
            },
            "colorscale": [
             [
              0,
              "#0d0887"
             ],
             [
              0.1111111111111111,
              "#46039f"
             ],
             [
              0.2222222222222222,
              "#7201a8"
             ],
             [
              0.3333333333333333,
              "#9c179e"
             ],
             [
              0.4444444444444444,
              "#bd3786"
             ],
             [
              0.5555555555555556,
              "#d8576b"
             ],
             [
              0.6666666666666666,
              "#ed7953"
             ],
             [
              0.7777777777777778,
              "#fb9f3a"
             ],
             [
              0.8888888888888888,
              "#fdca26"
             ],
             [
              1,
              "#f0f921"
             ]
            ],
            "type": "surface"
           }
          ],
          "table": [
           {
            "cells": {
             "fill": {
              "color": "#EBF0F8"
             },
             "line": {
              "color": "white"
             }
            },
            "header": {
             "fill": {
              "color": "#C8D4E3"
             },
             "line": {
              "color": "white"
             }
            },
            "type": "table"
           }
          ]
         },
         "layout": {
          "annotationdefaults": {
           "arrowcolor": "#2a3f5f",
           "arrowhead": 0,
           "arrowwidth": 1
          },
          "autotypenumbers": "strict",
          "coloraxis": {
           "colorbar": {
            "outlinewidth": 0,
            "ticks": ""
           }
          },
          "colorscale": {
           "diverging": [
            [
             0,
             "#8e0152"
            ],
            [
             0.1,
             "#c51b7d"
            ],
            [
             0.2,
             "#de77ae"
            ],
            [
             0.3,
             "#f1b6da"
            ],
            [
             0.4,
             "#fde0ef"
            ],
            [
             0.5,
             "#f7f7f7"
            ],
            [
             0.6,
             "#e6f5d0"
            ],
            [
             0.7,
             "#b8e186"
            ],
            [
             0.8,
             "#7fbc41"
            ],
            [
             0.9,
             "#4d9221"
            ],
            [
             1,
             "#276419"
            ]
           ],
           "sequential": [
            [
             0,
             "#0d0887"
            ],
            [
             0.1111111111111111,
             "#46039f"
            ],
            [
             0.2222222222222222,
             "#7201a8"
            ],
            [
             0.3333333333333333,
             "#9c179e"
            ],
            [
             0.4444444444444444,
             "#bd3786"
            ],
            [
             0.5555555555555556,
             "#d8576b"
            ],
            [
             0.6666666666666666,
             "#ed7953"
            ],
            [
             0.7777777777777778,
             "#fb9f3a"
            ],
            [
             0.8888888888888888,
             "#fdca26"
            ],
            [
             1,
             "#f0f921"
            ]
           ],
           "sequentialminus": [
            [
             0,
             "#0d0887"
            ],
            [
             0.1111111111111111,
             "#46039f"
            ],
            [
             0.2222222222222222,
             "#7201a8"
            ],
            [
             0.3333333333333333,
             "#9c179e"
            ],
            [
             0.4444444444444444,
             "#bd3786"
            ],
            [
             0.5555555555555556,
             "#d8576b"
            ],
            [
             0.6666666666666666,
             "#ed7953"
            ],
            [
             0.7777777777777778,
             "#fb9f3a"
            ],
            [
             0.8888888888888888,
             "#fdca26"
            ],
            [
             1,
             "#f0f921"
            ]
           ]
          },
          "colorway": [
           "#636efa",
           "#EF553B",
           "#00cc96",
           "#ab63fa",
           "#FFA15A",
           "#19d3f3",
           "#FF6692",
           "#B6E880",
           "#FF97FF",
           "#FECB52"
          ],
          "font": {
           "color": "#2a3f5f"
          },
          "geo": {
           "bgcolor": "white",
           "lakecolor": "white",
           "landcolor": "#E5ECF6",
           "showlakes": true,
           "showland": true,
           "subunitcolor": "white"
          },
          "hoverlabel": {
           "align": "left"
          },
          "hovermode": "closest",
          "mapbox": {
           "style": "light"
          },
          "paper_bgcolor": "white",
          "plot_bgcolor": "#E5ECF6",
          "polar": {
           "angularaxis": {
            "gridcolor": "white",
            "linecolor": "white",
            "ticks": ""
           },
           "bgcolor": "#E5ECF6",
           "radialaxis": {
            "gridcolor": "white",
            "linecolor": "white",
            "ticks": ""
           }
          },
          "scene": {
           "xaxis": {
            "backgroundcolor": "#E5ECF6",
            "gridcolor": "white",
            "gridwidth": 2,
            "linecolor": "white",
            "showbackground": true,
            "ticks": "",
            "zerolinecolor": "white"
           },
           "yaxis": {
            "backgroundcolor": "#E5ECF6",
            "gridcolor": "white",
            "gridwidth": 2,
            "linecolor": "white",
            "showbackground": true,
            "ticks": "",
            "zerolinecolor": "white"
           },
           "zaxis": {
            "backgroundcolor": "#E5ECF6",
            "gridcolor": "white",
            "gridwidth": 2,
            "linecolor": "white",
            "showbackground": true,
            "ticks": "",
            "zerolinecolor": "white"
           }
          },
          "shapedefaults": {
           "line": {
            "color": "#2a3f5f"
           }
          },
          "ternary": {
           "aaxis": {
            "gridcolor": "white",
            "linecolor": "white",
            "ticks": ""
           },
           "baxis": {
            "gridcolor": "white",
            "linecolor": "white",
            "ticks": ""
           },
           "bgcolor": "#E5ECF6",
           "caxis": {
            "gridcolor": "white",
            "linecolor": "white",
            "ticks": ""
           }
          },
          "title": {
           "x": 0.05
          },
          "xaxis": {
           "automargin": true,
           "gridcolor": "white",
           "linecolor": "white",
           "ticks": "",
           "title": {
            "standoff": 15
           },
           "zerolinecolor": "white",
           "zerolinewidth": 2
          },
          "yaxis": {
           "automargin": true,
           "gridcolor": "white",
           "linecolor": "white",
           "ticks": "",
           "title": {
            "standoff": 15
           },
           "zerolinecolor": "white",
           "zerolinewidth": 2
          }
         }
        },
        "updatemenus": [
         {
          "buttons": [
           {
            "args": [
             null,
             {
              "frame": {
               "duration": 500,
               "redraw": true
              },
              "fromcurrent": true,
              "mode": "immediate",
              "transition": {
               "duration": 500,
               "easing": "linear"
              }
             }
            ],
            "label": "&#9654;",
            "method": "animate"
           },
           {
            "args": [
             [
              null
             ],
             {
              "frame": {
               "duration": 0,
               "redraw": true
              },
              "fromcurrent": true,
              "mode": "immediate",
              "transition": {
               "duration": 0,
               "easing": "linear"
              }
             }
            ],
            "label": "&#9724;",
            "method": "animate"
           }
          ],
          "direction": "left",
          "pad": {
           "r": 10,
           "t": 70
          },
          "showactive": false,
          "type": "buttons",
          "x": 0.1,
          "xanchor": "right",
          "y": 0,
          "yanchor": "top"
         }
        ]
       }
      }
     },
     "metadata": {},
     "output_type": "display_data"
    }
   ],
   "source": [
    "fig = px.scatter_mapbox(df, lat=\"lat\", lon=\"lon\", color=\"team\", animation_frame=\"time\", animation_group=\"team\",zoom=15)\n",
    "fig.update_layout(mapbox_style=\"open-street-map\")\n",
    "fig.show()\n"
   ]
  }
 ],
 "metadata": {
  "kernelspec": {
   "display_name": ".venv",
   "language": "python",
   "name": "python3"
  },
  "language_info": {
   "codemirror_mode": {
    "name": "ipython",
    "version": 3
   },
   "file_extension": ".py",
   "mimetype": "text/x-python",
   "name": "python",
   "nbconvert_exporter": "python",
   "pygments_lexer": "ipython3",
   "version": "3.10.12"
  }
 },
 "nbformat": 4,
 "nbformat_minor": 2
}
