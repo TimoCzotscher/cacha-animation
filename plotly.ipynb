{
 "cells": [
  {
   "cell_type": "code",
   "execution_count": 22,
   "metadata": {},
   "outputs": [],
   "source": [
    "import pandas as pd\n",
    "import plotly.express as px\n",
    "import plotly.io as pio\n",
    "import imageio"
   ]
  },
  {
   "cell_type": "code",
   "execution_count": 23,
   "metadata": {},
   "outputs": [
    {
     "name": "stdout",
     "output_type": "stream",
     "text": [
      "Generating figures  0.00%\n",
      "Generating figures 12.50%\n",
      "Generating figures 25.00%\n",
      "Generating figures 37.50%\n",
      "Generating figures 50.00%\n",
      "Generating figures 62.50%\n",
      "Generating figures 75.00%\n",
      "Generating figures 87.50%\n"
     ]
    }
   ],
   "source": [
    "# Render the frames figures\n",
    "figs = []\n",
    "n_frames = 8\n",
    "for i in range(n_frames):\n",
    "    print(f\"Generating figures {i / n_frames * 100:5.2f}%\")\n",
    "    \n",
    "    # Example data\n",
    "    data = {'team': ['t1', 't2', 't3', 't4'],\n",
    "            'lat': [49.0176 + 0.0001 * i, 49.0176 - 0.0001 * i, 49.0176, 49.0176],\n",
    "            'lon': [12.0974, 12.0974, 12.0974 + 0.0001 * i, 12.0974 - 0.0001 * i]}\n",
    "    df = pd.DataFrame(data)\n",
    "\n",
    "    # Create plot\n",
    "    fig = px.scatter_mapbox(df, lat=\"lat\", lon=\"lon\", color=\"team\", mapbox_style=\"carto-positron\", zoom=15)\n",
    "    figs.append(fig)"
   ]
  },
  {
   "cell_type": "code",
   "execution_count": 24,
   "metadata": {},
   "outputs": [
    {
     "name": "stdout",
     "output_type": "stream",
     "text": [
      "Generating images  0.00%\n",
      "Generating images 12.50%\n",
      "Generating images 25.00%\n",
      "Generating images 37.50%\n",
      "Generating images 50.00%\n",
      "Generating images 62.50%\n",
      "Generating images 75.00%\n",
      "Generating images 87.50%\n"
     ]
    }
   ],
   "source": [
    "# Convert figures to images\n",
    "frames = []\n",
    "for i, fig in enumerate(figs):\n",
    "    print(f\"Generating images {i / n_frames * 100:5.2f}%\")\n",
    "\n",
    "    img_bytes = pio.to_image(fig, format=\"png\")\n",
    "    img = imageio.v2.imread(img_bytes)\n",
    "    frames.append(img)"
   ]
  },
  {
   "cell_type": "code",
   "execution_count": 25,
   "metadata": {},
   "outputs": [
    {
     "name": "stderr",
     "output_type": "stream",
     "text": [
      "IMAGEIO FFMPEG_WRITER WARNING: input image is not divisible by macro_block_size=16, resizing from (700, 500) to (704, 512) to ensure video compatibility with most codecs and players. To prevent resizing, make your input image divisible by the macro_block_size or set the macro_block_size to 1 (risking incompatibility).\n"
     ]
    }
   ],
   "source": [
    "# Save frames as a video\n",
    "imageio.mimsave(\"plotly.mp4\", frames, fps=1)"
   ]
  }
 ],
 "metadata": {
  "kernelspec": {
   "display_name": ".venv",
   "language": "python",
   "name": "python3"
  },
  "language_info": {
   "codemirror_mode": {
    "name": "ipython",
    "version": 3
   },
   "file_extension": ".py",
   "mimetype": "text/x-python",
   "name": "python",
   "nbconvert_exporter": "python",
   "pygments_lexer": "ipython3",
   "version": "3.10.12"
  }
 },
 "nbformat": 4,
 "nbformat_minor": 2
}
