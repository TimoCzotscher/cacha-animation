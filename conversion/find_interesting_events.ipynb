{
 "cells": [
  {
   "cell_type": "code",
   "execution_count": 1,
   "metadata": {},
   "outputs": [],
   "source": [
    "import json\n",
    "import os\n",
    "import pandas as pd\n",
    "from datetime import datetime\n",
    "import pytz\n",
    "import itertools"
   ]
  },
  {
   "cell_type": "code",
   "execution_count": 2,
   "metadata": {},
   "outputs": [],
   "source": [
    "GAME = \"testlauf-neupfarrplatz\""
   ]
  },
  {
   "cell_type": "code",
   "execution_count": 3,
   "metadata": {},
   "outputs": [],
   "source": [
    "df = pd.read_parquet(os.path.join(\"../data\", GAME, \"log-interpol/interpol.parquet\"))"
   ]
  },
  {
   "cell_type": "code",
   "execution_count": 4,
   "metadata": {},
   "outputs": [
    {
     "data": {
      "text/html": [
       "<div>\n",
       "<style scoped>\n",
       "    .dataframe tbody tr th:only-of-type {\n",
       "        vertical-align: middle;\n",
       "    }\n",
       "\n",
       "    .dataframe tbody tr th {\n",
       "        vertical-align: top;\n",
       "    }\n",
       "\n",
       "    .dataframe thead tr th {\n",
       "        text-align: left;\n",
       "    }\n",
       "</style>\n",
       "<table border=\"1\" class=\"dataframe\">\n",
       "  <thead>\n",
       "    <tr>\n",
       "      <th>team</th>\n",
       "      <th colspan=\"2\" halign=\"left\">50b848eb-150d-11ef-a477-15bc960d382e</th>\n",
       "      <th colspan=\"2\" halign=\"left\">a4eebb09-1514-11ef-b019-73f1875d90c5</th>\n",
       "      <th colspan=\"2\" halign=\"left\">b1d91f00-1514-11ef-90d9-870e7bed4f26</th>\n",
       "      <th colspan=\"2\" halign=\"left\">56971933-150d-11ef-9427-2bf640545472</th>\n",
       "      <th colspan=\"2\" halign=\"left\">284f0e6b-1514-11ef-a3d1-710a0d2c97dd</th>\n",
       "    </tr>\n",
       "    <tr>\n",
       "      <th>dim</th>\n",
       "      <th>lat</th>\n",
       "      <th>lon</th>\n",
       "      <th>lat</th>\n",
       "      <th>lon</th>\n",
       "      <th>lat</th>\n",
       "      <th>lon</th>\n",
       "      <th>lat</th>\n",
       "      <th>lon</th>\n",
       "      <th>lat</th>\n",
       "      <th>lon</th>\n",
       "    </tr>\n",
       "  </thead>\n",
       "  <tbody>\n",
       "    <tr>\n",
       "      <th>0</th>\n",
       "      <td>49.018418</td>\n",
       "      <td>12.096596</td>\n",
       "      <td>49.018377</td>\n",
       "      <td>12.096603</td>\n",
       "      <td>49.018386</td>\n",
       "      <td>12.096590</td>\n",
       "      <td>49.018445</td>\n",
       "      <td>12.096630</td>\n",
       "      <td>49.018446</td>\n",
       "      <td>12.096713</td>\n",
       "    </tr>\n",
       "    <tr>\n",
       "      <th>1000</th>\n",
       "      <td>49.018418</td>\n",
       "      <td>12.096595</td>\n",
       "      <td>49.018377</td>\n",
       "      <td>12.096603</td>\n",
       "      <td>49.018388</td>\n",
       "      <td>12.096587</td>\n",
       "      <td>49.018444</td>\n",
       "      <td>12.096632</td>\n",
       "      <td>49.018445</td>\n",
       "      <td>12.096713</td>\n",
       "    </tr>\n",
       "    <tr>\n",
       "      <th>2000</th>\n",
       "      <td>49.018418</td>\n",
       "      <td>12.096595</td>\n",
       "      <td>49.018377</td>\n",
       "      <td>12.096603</td>\n",
       "      <td>49.018388</td>\n",
       "      <td>12.096585</td>\n",
       "      <td>49.018442</td>\n",
       "      <td>12.096636</td>\n",
       "      <td>49.018445</td>\n",
       "      <td>12.096713</td>\n",
       "    </tr>\n",
       "    <tr>\n",
       "      <th>3000</th>\n",
       "      <td>49.018418</td>\n",
       "      <td>12.096595</td>\n",
       "      <td>49.018377</td>\n",
       "      <td>12.096603</td>\n",
       "      <td>49.018388</td>\n",
       "      <td>12.096585</td>\n",
       "      <td>49.018440</td>\n",
       "      <td>12.096640</td>\n",
       "      <td>49.018445</td>\n",
       "      <td>12.096713</td>\n",
       "    </tr>\n",
       "    <tr>\n",
       "      <th>4000</th>\n",
       "      <td>49.018418</td>\n",
       "      <td>12.096595</td>\n",
       "      <td>49.018377</td>\n",
       "      <td>12.096603</td>\n",
       "      <td>49.018388</td>\n",
       "      <td>12.096584</td>\n",
       "      <td>49.018438</td>\n",
       "      <td>12.096644</td>\n",
       "      <td>49.018445</td>\n",
       "      <td>12.096714</td>\n",
       "    </tr>\n",
       "  </tbody>\n",
       "</table>\n",
       "</div>"
      ],
      "text/plain": [
       "team 50b848eb-150d-11ef-a477-15bc960d382e             \\\n",
       "dim                                   lat        lon   \n",
       "0                               49.018418  12.096596   \n",
       "1000                            49.018418  12.096595   \n",
       "2000                            49.018418  12.096595   \n",
       "3000                            49.018418  12.096595   \n",
       "4000                            49.018418  12.096595   \n",
       "\n",
       "team a4eebb09-1514-11ef-b019-73f1875d90c5             \\\n",
       "dim                                   lat        lon   \n",
       "0                               49.018377  12.096603   \n",
       "1000                            49.018377  12.096603   \n",
       "2000                            49.018377  12.096603   \n",
       "3000                            49.018377  12.096603   \n",
       "4000                            49.018377  12.096603   \n",
       "\n",
       "team b1d91f00-1514-11ef-90d9-870e7bed4f26             \\\n",
       "dim                                   lat        lon   \n",
       "0                               49.018386  12.096590   \n",
       "1000                            49.018388  12.096587   \n",
       "2000                            49.018388  12.096585   \n",
       "3000                            49.018388  12.096585   \n",
       "4000                            49.018388  12.096584   \n",
       "\n",
       "team 56971933-150d-11ef-9427-2bf640545472             \\\n",
       "dim                                   lat        lon   \n",
       "0                               49.018445  12.096630   \n",
       "1000                            49.018444  12.096632   \n",
       "2000                            49.018442  12.096636   \n",
       "3000                            49.018440  12.096640   \n",
       "4000                            49.018438  12.096644   \n",
       "\n",
       "team 284f0e6b-1514-11ef-a3d1-710a0d2c97dd             \n",
       "dim                                   lat        lon  \n",
       "0                               49.018446  12.096713  \n",
       "1000                            49.018445  12.096713  \n",
       "2000                            49.018445  12.096713  \n",
       "3000                            49.018445  12.096713  \n",
       "4000                            49.018445  12.096714  "
      ]
     },
     "execution_count": 4,
     "metadata": {},
     "output_type": "execute_result"
    }
   ],
   "source": [
    "df.head()"
   ]
  },
  {
   "cell_type": "code",
   "execution_count": 5,
   "metadata": {},
   "outputs": [
    {
     "data": {
      "text/plain": [
       "['a4eebb09-1514-11ef-b019-73f1875d90c5',\n",
       " '50b848eb-150d-11ef-a477-15bc960d382e',\n",
       " '56971933-150d-11ef-9427-2bf640545472',\n",
       " 'b1d91f00-1514-11ef-90d9-870e7bed4f26',\n",
       " '284f0e6b-1514-11ef-a3d1-710a0d2c97dd']"
      ]
     },
     "execution_count": 5,
     "metadata": {},
     "output_type": "execute_result"
    }
   ],
   "source": [
    "# get list of teams\n",
    "teams = list(set(c[0] for c in df.columns))\n",
    "teams"
   ]
  },
  {
   "cell_type": "code",
   "execution_count": 6,
   "metadata": {},
   "outputs": [],
   "source": [
    "# get catch data\n",
    "data_caught = json.load(open('../data/testlauf-neupfarrplatz/log-export/team_caught.json'))"
   ]
  },
  {
   "cell_type": "code",
   "execution_count": 7,
   "metadata": {},
   "outputs": [
    {
     "data": {
      "text/plain": [
       "{'56971933-150d-11ef-9427-2bf640545472': 1716041758000,\n",
       " 'b1d91f00-1514-11ef-90d9-870e7bed4f26': 1716041166000,\n",
       " 'a4eebb09-1514-11ef-b019-73f1875d90c5': 1716039541000}"
      ]
     },
     "execution_count": 7,
     "metadata": {},
     "output_type": "execute_result"
    }
   ],
   "source": [
    "# dictionary of caught timestamps\n",
    "caught_timestamps = {}\n",
    "for entry in data_caught:\n",
    "    entry['timestamp'] = entry['timestamp'][:-4]\n",
    "    entry['timestamp'] = entry['timestamp']\n",
    "    dt = datetime.strptime(entry['timestamp'], \"%Y-%m-%d %H:%M:%S\").replace(tzinfo=pytz.UTC)\n",
    "    caught_timestamps[entry['runaway_active_user']] = int(dt.timestamp() * 1000)\n",
    "# initial hunting team\n",
    "entry = data_caught[-1]\n",
    "caught_timestamps"
   ]
  },
  {
   "cell_type": "code",
   "execution_count": 8,
   "metadata": {},
   "outputs": [],
   "source": [
    "# get initial hunter\n",
    "initial_hunter = entry['hunter_active_user']\n",
    "caught_timestamps[initial_hunter] = 0"
   ]
  },
  {
   "cell_type": "code",
   "execution_count": 9,
   "metadata": {},
   "outputs": [],
   "source": [
    "interesting_timestamps = []\n",
    "interesting_start = 0\n",
    "interesting = False\n",
    "for t in df.index:\n",
    "    hunters = [initial_hunter] + [team for team in teams if team in caught_timestamps.keys() and caught_timestamps[team] < t]\n",
    "    chasers = [team for team in teams if team not in hunters]\n",
    "    \n",
    "    # calculate pairwise distances between hunters and chasers\n",
    "    still_interesting = False\n",
    "    for hunter, chaser in itertools.product(hunters, chasers):\n",
    "        d_lat = df[hunter, 'lat'][t] - df[chaser, 'lat'][t]\n",
    "        d_lon = df[hunter, 'lon'][t] - df[chaser, 'lon'][t]\n",
    "        d = ((d_lat*1000)**2 + (d_lon*1000)**2)**0.5\n",
    "        if d < 0.5:\n",
    "            if not interesting:\n",
    "                interesting_start = t\n",
    "            still_interesting = True\n",
    "            interesting = True\n",
    "            break\n",
    "    \n",
    "    # end of interesting period\n",
    "    if interesting and not still_interesting:\n",
    "        interesting_timestamps.append((interesting_start, t))\n",
    "        interesting = False\n",
    "        \n",
    "interesting_timestamps.append((interesting_start, t))"
   ]
  },
  {
   "cell_type": "code",
   "execution_count": 10,
   "metadata": {},
   "outputs": [
    {
     "data": {
      "text/plain": [
       "[(0, 366000),\n",
       " (2166000, 2439000),\n",
       " (2567000, 2602000),\n",
       " (2627000, 2638000),\n",
       " (2948000, 3132000),\n",
       " (3576000, 3660000),\n",
       " (3713000, 3718000),\n",
       " (3719000, 3725000),\n",
       " (3786000, 3835000),\n",
       " (3874000, 3965000),\n",
       " (3972000, 4222000),\n",
       " (4338000, 4462000)]"
      ]
     },
     "execution_count": 10,
     "metadata": {},
     "output_type": "execute_result"
    }
   ],
   "source": [
    "interesting_timestamps"
   ]
  }
 ],
 "metadata": {
  "kernelspec": {
   "display_name": ".venv",
   "language": "python",
   "name": "python3"
  },
  "language_info": {
   "codemirror_mode": {
    "name": "ipython",
    "version": 3
   },
   "file_extension": ".py",
   "mimetype": "text/x-python",
   "name": "python",
   "nbconvert_exporter": "python",
   "pygments_lexer": "ipython3",
   "version": "3.10.12"
  }
 },
 "nbformat": 4,
 "nbformat_minor": 2
}
