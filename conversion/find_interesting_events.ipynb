{
 "cells": [
  {
   "cell_type": "code",
   "execution_count": 96,
   "metadata": {},
   "outputs": [],
   "source": [
    "import json\n",
    "import os\n",
    "import pandas as pd\n",
    "from datetime import datetime\n",
    "import pytz\n",
    "import itertools"
   ]
  },
  {
   "cell_type": "code",
   "execution_count": 97,
   "metadata": {},
   "outputs": [],
   "source": [
    "GAME = \"hackaburg-campuswiese\""
   ]
  },
  {
   "cell_type": "code",
   "execution_count": 98,
   "metadata": {},
   "outputs": [],
   "source": [
    "df = pd.read_parquet(os.path.join(\"../data\", GAME, \"log-interpol/interpol.parquet\"))"
   ]
  },
  {
   "cell_type": "code",
   "execution_count": 99,
   "metadata": {},
   "outputs": [
    {
     "data": {
      "text/html": [
       "<div>\n",
       "<style scoped>\n",
       "    .dataframe tbody tr th:only-of-type {\n",
       "        vertical-align: middle;\n",
       "    }\n",
       "\n",
       "    .dataframe tbody tr th {\n",
       "        vertical-align: top;\n",
       "    }\n",
       "\n",
       "    .dataframe thead tr th {\n",
       "        text-align: left;\n",
       "    }\n",
       "</style>\n",
       "<table border=\"1\" class=\"dataframe\">\n",
       "  <thead>\n",
       "    <tr>\n",
       "      <th>team_name</th>\n",
       "      <th colspan=\"2\" halign=\"left\">3d759ca3-19d7-11ef-9bd3-e50b875d9764</th>\n",
       "      <th colspan=\"2\" halign=\"left\">212797ed-19d7-11ef-9397-591084319220</th>\n",
       "      <th colspan=\"2\" halign=\"left\">5fa28584-19d7-11ef-89a9-91251b4272d3</th>\n",
       "      <th colspan=\"2\" halign=\"left\">2a539389-19d7-11ef-afee-e50b875d9764</th>\n",
       "    </tr>\n",
       "    <tr>\n",
       "      <th>dim</th>\n",
       "      <th>lat</th>\n",
       "      <th>lon</th>\n",
       "      <th>lat</th>\n",
       "      <th>lon</th>\n",
       "      <th>lat</th>\n",
       "      <th>lon</th>\n",
       "      <th>lat</th>\n",
       "      <th>lon</th>\n",
       "    </tr>\n",
       "  </thead>\n",
       "  <tbody>\n",
       "    <tr>\n",
       "      <th>1716560477645</th>\n",
       "      <td>49.002177</td>\n",
       "      <td>12.099576</td>\n",
       "      <td>49.002072</td>\n",
       "      <td>12.099348</td>\n",
       "      <td>49.002101</td>\n",
       "      <td>12.099363</td>\n",
       "      <td>49.002248</td>\n",
       "      <td>12.099911</td>\n",
       "    </tr>\n",
       "    <tr>\n",
       "      <th>1716560478645</th>\n",
       "      <td>49.002177</td>\n",
       "      <td>12.099565</td>\n",
       "      <td>49.002073</td>\n",
       "      <td>12.099340</td>\n",
       "      <td>49.002100</td>\n",
       "      <td>12.099360</td>\n",
       "      <td>49.002248</td>\n",
       "      <td>12.099900</td>\n",
       "    </tr>\n",
       "    <tr>\n",
       "      <th>1716560479645</th>\n",
       "      <td>49.002177</td>\n",
       "      <td>12.099553</td>\n",
       "      <td>49.002074</td>\n",
       "      <td>12.099334</td>\n",
       "      <td>49.002099</td>\n",
       "      <td>12.099358</td>\n",
       "      <td>49.002248</td>\n",
       "      <td>12.099890</td>\n",
       "    </tr>\n",
       "    <tr>\n",
       "      <th>1716560480645</th>\n",
       "      <td>49.002177</td>\n",
       "      <td>12.099542</td>\n",
       "      <td>49.002075</td>\n",
       "      <td>12.099328</td>\n",
       "      <td>49.002098</td>\n",
       "      <td>12.099356</td>\n",
       "      <td>49.002248</td>\n",
       "      <td>12.099879</td>\n",
       "    </tr>\n",
       "    <tr>\n",
       "      <th>1716560481645</th>\n",
       "      <td>49.002177</td>\n",
       "      <td>12.099530</td>\n",
       "      <td>49.002076</td>\n",
       "      <td>12.099323</td>\n",
       "      <td>49.002098</td>\n",
       "      <td>12.099354</td>\n",
       "      <td>49.002248</td>\n",
       "      <td>12.099868</td>\n",
       "    </tr>\n",
       "  </tbody>\n",
       "</table>\n",
       "</div>"
      ],
      "text/plain": [
       "team_name     3d759ca3-19d7-11ef-9bd3-e50b875d9764             \\\n",
       "dim                                            lat        lon   \n",
       "1716560477645                            49.002177  12.099576   \n",
       "1716560478645                            49.002177  12.099565   \n",
       "1716560479645                            49.002177  12.099553   \n",
       "1716560480645                            49.002177  12.099542   \n",
       "1716560481645                            49.002177  12.099530   \n",
       "\n",
       "team_name     212797ed-19d7-11ef-9397-591084319220             \\\n",
       "dim                                            lat        lon   \n",
       "1716560477645                            49.002072  12.099348   \n",
       "1716560478645                            49.002073  12.099340   \n",
       "1716560479645                            49.002074  12.099334   \n",
       "1716560480645                            49.002075  12.099328   \n",
       "1716560481645                            49.002076  12.099323   \n",
       "\n",
       "team_name     5fa28584-19d7-11ef-89a9-91251b4272d3             \\\n",
       "dim                                            lat        lon   \n",
       "1716560477645                            49.002101  12.099363   \n",
       "1716560478645                            49.002100  12.099360   \n",
       "1716560479645                            49.002099  12.099358   \n",
       "1716560480645                            49.002098  12.099356   \n",
       "1716560481645                            49.002098  12.099354   \n",
       "\n",
       "team_name     2a539389-19d7-11ef-afee-e50b875d9764             \n",
       "dim                                            lat        lon  \n",
       "1716560477645                            49.002248  12.099911  \n",
       "1716560478645                            49.002248  12.099900  \n",
       "1716560479645                            49.002248  12.099890  \n",
       "1716560480645                            49.002248  12.099879  \n",
       "1716560481645                            49.002248  12.099868  "
      ]
     },
     "execution_count": 99,
     "metadata": {},
     "output_type": "execute_result"
    }
   ],
   "source": [
    "df.head()"
   ]
  },
  {
   "cell_type": "code",
   "execution_count": 100,
   "metadata": {},
   "outputs": [
    {
     "data": {
      "text/plain": [
       "['3d759ca3-19d7-11ef-9bd3-e50b875d9764',\n",
       " '5fa28584-19d7-11ef-89a9-91251b4272d3',\n",
       " '2a539389-19d7-11ef-afee-e50b875d9764',\n",
       " '212797ed-19d7-11ef-9397-591084319220']"
      ]
     },
     "execution_count": 100,
     "metadata": {},
     "output_type": "execute_result"
    }
   ],
   "source": [
    "# get list of teams\n",
    "teams = list(set(c[0] for c in df.columns))\n",
    "teams"
   ]
  },
  {
   "cell_type": "code",
   "execution_count": 101,
   "metadata": {},
   "outputs": [],
   "source": [
    "# get catch data\n",
    "data_caught = json.load(open(os.path.join('../data/', GAME, \"log-export/team_caught.json\")))"
   ]
  },
  {
   "cell_type": "code",
   "execution_count": 102,
   "metadata": {},
   "outputs": [
    {
     "data": {
      "text/plain": [
       "{'2a539389-19d7-11ef-afee-e50b875d9764': 1716563030000,\n",
       " '3d759ca3-19d7-11ef-9bd3-e50b875d9764': 1716562033000}"
      ]
     },
     "execution_count": 102,
     "metadata": {},
     "output_type": "execute_result"
    }
   ],
   "source": [
    "# dictionary of caught timestamps\n",
    "caught_timestamps = {}\n",
    "for entry in data_caught:\n",
    "    entry['timestamp'] = entry['timestamp'][:-4]\n",
    "    entry['timestamp'] = entry['timestamp']\n",
    "    dt = datetime.strptime(entry['timestamp'], \"%Y-%m-%d %H:%M:%S\").replace(tzinfo=pytz.UTC)\n",
    "    caught_timestamps[entry['runaway_active_user']] = int(dt.timestamp() * 1000)\n",
    "# initial hunting team\n",
    "entry = data_caught[-1]\n",
    "caught_timestamps"
   ]
  },
  {
   "cell_type": "code",
   "execution_count": 103,
   "metadata": {},
   "outputs": [],
   "source": [
    "# get initial hunter\n",
    "initial_hunter = entry['hunter_active_user']\n",
    "caught_timestamps[initial_hunter] = 0"
   ]
  },
  {
   "cell_type": "code",
   "execution_count": 104,
   "metadata": {},
   "outputs": [],
   "source": [
    "# find intervals where hunters are close to prey\n",
    "interesting_timestamps = []\n",
    "interesting_start = 0\n",
    "interesting = False\n",
    "for t in df.index:\n",
    "    hunters = [initial_hunter] + [team for team in teams if team in caught_timestamps.keys() and caught_timestamps[team] < t]\n",
    "    preys = [team for team in teams if team not in hunters]\n",
    "    \n",
    "    # calculate pairwise distances between hunters and prey\n",
    "    still_interesting = False\n",
    "    for hunter, prey in itertools.product(hunters, preys):\n",
    "        d_lat = df[hunter, 'lat'][t] - df[prey, 'lat'][t]\n",
    "        d_lon = df[hunter, 'lon'][t] - df[prey, 'lon'][t]\n",
    "        d = ((d_lat*1000)**2 + (d_lon*1000)**2)**0.5\n",
    "        if d < 0.5:\n",
    "            if not interesting:\n",
    "                interesting_start = t\n",
    "            still_interesting = True\n",
    "            interesting = True\n",
    "            break\n",
    "    \n",
    "    # end of interesting period\n",
    "    if interesting and not still_interesting:\n",
    "        interesting_timestamps.append((interesting_start, t))\n",
    "        interesting = False\n",
    "        \n",
    "interesting_timestamps.append((interesting_start, t))"
   ]
  },
  {
   "cell_type": "code",
   "execution_count": 105,
   "metadata": {},
   "outputs": [
    {
     "data": {
      "text/plain": [
       "[(1716560477645, 1716561133645),\n",
       " (1716561971645, 1716561993645),\n",
       " (1716562015645, 1716562033645),\n",
       " (1716562995645, 1716563030645),\n",
       " (1716562995645, 1716563175645)]"
      ]
     },
     "execution_count": 105,
     "metadata": {},
     "output_type": "execute_result"
    }
   ],
   "source": [
    "interesting_timestamps"
   ]
  },
  {
   "cell_type": "code",
   "execution_count": 106,
   "metadata": {},
   "outputs": [
    {
     "data": {
      "text/plain": [
       "{'start': 1716561111000, 'end': 1716563174000}"
      ]
     },
     "execution_count": 106,
     "metadata": {},
     "output_type": "execute_result"
    }
   ],
   "source": [
    "# load game running interval\n",
    "running_interval = json.load(open(os.path.join('../data', GAME, \"running_interval.json\")))\n",
    "running_interval"
   ]
  },
  {
   "cell_type": "code",
   "execution_count": 107,
   "metadata": {},
   "outputs": [
    {
     "data": {
      "text/plain": [
       "[(1716561971645, 1716561993645),\n",
       " (1716562015645, 1716562033645),\n",
       " (1716562995645, 1716563030645)]"
      ]
     },
     "execution_count": 107,
     "metadata": {},
     "output_type": "execute_result"
    }
   ],
   "source": [
    "# filter game running interval\n",
    "interesting_timestamps = [ts for ts in interesting_timestamps if ts[0] > running_interval['start'] and ts[1] < running_interval['end']]\n",
    "interesting_timestamps"
   ]
  }
 ],
 "metadata": {
  "kernelspec": {
   "display_name": ".venv",
   "language": "python",
   "name": "python3"
  },
  "language_info": {
   "codemirror_mode": {
    "name": "ipython",
    "version": 3
   },
   "file_extension": ".py",
   "mimetype": "text/x-python",
   "name": "python",
   "nbconvert_exporter": "python",
   "pygments_lexer": "ipython3",
   "version": "3.10.12"
  }
 },
 "nbformat": 4,
 "nbformat_minor": 2
}
